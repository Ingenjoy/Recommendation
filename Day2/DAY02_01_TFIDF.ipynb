{
  "nbformat": 4,
  "nbformat_minor": 0,
  "metadata": {
    "colab": {
      "name": "DAY02-01 TFIDF.ipynb",
      "provenance": [],
      "collapsed_sections": [],
      "include_colab_link": true
    },
    "language_info": {
      "codemirror_mode": {
        "name": "ipython",
        "version": 3
      },
      "file_extension": ".py",
      "mimetype": "text/x-python",
      "name": "python",
      "nbconvert_exporter": "python",
      "pygments_lexer": "ipython3",
      "version": "3.6.1"
    },
    "kernelspec": {
      "display_name": "Python 3",
      "language": "python",
      "name": "python3"
    }
  },
  "cells": [
    {
      "cell_type": "markdown",
      "metadata": {
        "id": "view-in-github",
        "colab_type": "text"
      },
      "source": [
        "<a href=\"https://colab.research.google.com/github/Ingenjoy/Recommendation/blob/master/Day2/DAY02_01_TFIDF.ipynb\" target=\"_parent\"><img src=\"https://colab.research.google.com/assets/colab-badge.svg\" alt=\"Open In Colab\"/></a>"
      ]
    },
    {
      "cell_type": "code",
      "metadata": {
        "id": "I5RZ_NjDd6pq",
        "colab_type": "code",
        "colab": {}
      },
      "source": [
        "docA = 'a new car, used car, car review'\n",
        "docB = 'a friend in need is a friend indeed'"
      ],
      "execution_count": 0,
      "outputs": []
    },
    {
      "cell_type": "code",
      "metadata": {
        "id": "gZI1nv3td7PW",
        "colab_type": "code",
        "colab": {}
      },
      "source": [
        ""
      ],
      "execution_count": 0,
      "outputs": []
    },
    {
      "cell_type": "code",
      "metadata": {
        "id": "CiaKvmzKd6pv",
        "colab_type": "code",
        "colab": {}
      },
      "source": [
        "bowA = docA.split(\" \")\n",
        "bowB = docB.split(\" \")"
      ],
      "execution_count": 0,
      "outputs": []
    },
    {
      "cell_type": "code",
      "metadata": {
        "id": "2ho3CFgQd6py",
        "colab_type": "code",
        "outputId": "4cf2ebeb-c118-4df7-d624-1e2d0d194f77",
        "colab": {
          "base_uri": "https://localhost:8080/",
          "height": 35
        }
      },
      "source": [
        "bowB"
      ],
      "execution_count": 0,
      "outputs": [
        {
          "output_type": "execute_result",
          "data": {
            "text/plain": [
              "['a', 'friend', 'in', 'need', 'is', 'a', 'friend', 'indeed']"
            ]
          },
          "metadata": {
            "tags": []
          },
          "execution_count": 17
        }
      ]
    },
    {
      "cell_type": "code",
      "metadata": {
        "id": "DYU6fTyHd6p3",
        "colab_type": "code",
        "colab": {}
      },
      "source": [
        "wordSet = set(bowA).union(set(bowB))"
      ],
      "execution_count": 0,
      "outputs": []
    },
    {
      "cell_type": "code",
      "metadata": {
        "id": "7U4mDN4Yd6p6",
        "colab_type": "code",
        "outputId": "417ad5b0-033b-45eb-c2e4-6c5eb84e31f5",
        "colab": {
          "base_uri": "https://localhost:8080/",
          "height": 207
        }
      },
      "source": [
        "wordSet"
      ],
      "execution_count": 0,
      "outputs": [
        {
          "output_type": "execute_result",
          "data": {
            "text/plain": [
              "{'a',\n",
              " 'car',\n",
              " 'car,',\n",
              " 'friend',\n",
              " 'in',\n",
              " 'indeed',\n",
              " 'is',\n",
              " 'need',\n",
              " 'new',\n",
              " 'review',\n",
              " 'used'}"
            ]
          },
          "metadata": {
            "tags": []
          },
          "execution_count": 19
        }
      ]
    },
    {
      "cell_type": "code",
      "metadata": {
        "id": "OhbYhRqsd6p9",
        "colab_type": "code",
        "colab": {}
      },
      "source": [
        "wordDictA = dict.fromkeys(wordSet, 0) \n",
        "wordDictB = dict.fromkeys(wordSet, 0) "
      ],
      "execution_count": 0,
      "outputs": []
    },
    {
      "cell_type": "code",
      "metadata": {
        "id": "qZoXMkwcd6qA",
        "colab_type": "code",
        "outputId": "597baf54-738c-4b4f-e797-b2dc9d42378d",
        "colab": {
          "base_uri": "https://localhost:8080/",
          "height": 207
        }
      },
      "source": [
        "wordDictA"
      ],
      "execution_count": 0,
      "outputs": [
        {
          "output_type": "execute_result",
          "data": {
            "text/plain": [
              "{'a': 0,\n",
              " 'car': 0,\n",
              " 'car,': 0,\n",
              " 'friend': 0,\n",
              " 'in': 0,\n",
              " 'indeed': 0,\n",
              " 'is': 0,\n",
              " 'need': 0,\n",
              " 'new': 0,\n",
              " 'review': 0,\n",
              " 'used': 0}"
            ]
          },
          "metadata": {
            "tags": []
          },
          "execution_count": 21
        }
      ]
    },
    {
      "cell_type": "code",
      "metadata": {
        "id": "SpLQuVAEd6qD",
        "colab_type": "code",
        "colab": {}
      },
      "source": [
        "for word in bowA:\n",
        "    wordDictA[word]+=1\n",
        "    \n",
        "for word in bowB:\n",
        "    wordDictB[word]+=1"
      ],
      "execution_count": 0,
      "outputs": []
    },
    {
      "cell_type": "code",
      "metadata": {
        "id": "ZlrablUZd6qG",
        "colab_type": "code",
        "outputId": "046f243b-f1ad-47e5-d426-a55915e32701",
        "colab": {
          "base_uri": "https://localhost:8080/",
          "height": 207
        }
      },
      "source": [
        "wordDictA"
      ],
      "execution_count": 0,
      "outputs": [
        {
          "output_type": "execute_result",
          "data": {
            "text/plain": [
              "{'a': 1,\n",
              " 'car': 1,\n",
              " 'car,': 2,\n",
              " 'friend': 0,\n",
              " 'in': 0,\n",
              " 'indeed': 0,\n",
              " 'is': 0,\n",
              " 'need': 0,\n",
              " 'new': 1,\n",
              " 'review': 1,\n",
              " 'used': 1}"
            ]
          },
          "metadata": {
            "tags": []
          },
          "execution_count": 23
        }
      ]
    },
    {
      "cell_type": "code",
      "metadata": {
        "id": "3lizFOmvd6qK",
        "colab_type": "code",
        "outputId": "3c779a98-9beb-44ee-8e09-844ead0172bc",
        "colab": {
          "base_uri": "https://localhost:8080/",
          "height": 108
        }
      },
      "source": [
        "import pandas as pd\n",
        "pd.DataFrame([wordDictA, wordDictB])"
      ],
      "execution_count": 0,
      "outputs": [
        {
          "output_type": "execute_result",
          "data": {
            "text/html": [
              "<div>\n",
              "<style scoped>\n",
              "    .dataframe tbody tr th:only-of-type {\n",
              "        vertical-align: middle;\n",
              "    }\n",
              "\n",
              "    .dataframe tbody tr th {\n",
              "        vertical-align: top;\n",
              "    }\n",
              "\n",
              "    .dataframe thead th {\n",
              "        text-align: right;\n",
              "    }\n",
              "</style>\n",
              "<table border=\"1\" class=\"dataframe\">\n",
              "  <thead>\n",
              "    <tr style=\"text-align: right;\">\n",
              "      <th></th>\n",
              "      <th>a</th>\n",
              "      <th>car</th>\n",
              "      <th>car,</th>\n",
              "      <th>friend</th>\n",
              "      <th>in</th>\n",
              "      <th>indeed</th>\n",
              "      <th>is</th>\n",
              "      <th>need</th>\n",
              "      <th>new</th>\n",
              "      <th>review</th>\n",
              "      <th>used</th>\n",
              "    </tr>\n",
              "  </thead>\n",
              "  <tbody>\n",
              "    <tr>\n",
              "      <th>0</th>\n",
              "      <td>1</td>\n",
              "      <td>1</td>\n",
              "      <td>2</td>\n",
              "      <td>0</td>\n",
              "      <td>0</td>\n",
              "      <td>0</td>\n",
              "      <td>0</td>\n",
              "      <td>0</td>\n",
              "      <td>1</td>\n",
              "      <td>1</td>\n",
              "      <td>1</td>\n",
              "    </tr>\n",
              "    <tr>\n",
              "      <th>1</th>\n",
              "      <td>2</td>\n",
              "      <td>0</td>\n",
              "      <td>0</td>\n",
              "      <td>2</td>\n",
              "      <td>1</td>\n",
              "      <td>1</td>\n",
              "      <td>1</td>\n",
              "      <td>1</td>\n",
              "      <td>0</td>\n",
              "      <td>0</td>\n",
              "      <td>0</td>\n",
              "    </tr>\n",
              "  </tbody>\n",
              "</table>\n",
              "</div>"
            ],
            "text/plain": [
              "   a  car  car,  friend  in  indeed  is  need  new  review  used\n",
              "0  1    1     2       0   0       0   0     0    1       1     1\n",
              "1  2    0     0       2   1       1   1     1    0       0     0"
            ]
          },
          "metadata": {
            "tags": []
          },
          "execution_count": 24
        }
      ]
    },
    {
      "cell_type": "code",
      "metadata": {
        "id": "8MMKkzvNd6qO",
        "colab_type": "code",
        "colab": {}
      },
      "source": [
        "def computeTF(wordDict, bow):\n",
        "    tfDict = {}\n",
        "    bowCount = len(bow)\n",
        "    for word, count in wordDict.items():\n",
        "        tfDict[word] = count/float(bowCount)\n",
        "    return tfDict"
      ],
      "execution_count": 0,
      "outputs": []
    },
    {
      "cell_type": "code",
      "metadata": {
        "id": "bY_x-_eSd6qQ",
        "colab_type": "code",
        "colab": {}
      },
      "source": [
        "tfBowA = computeTF(wordDictA, bowA)\n",
        "tfBowB = computeTF(wordDictB, bowB)"
      ],
      "execution_count": 0,
      "outputs": []
    },
    {
      "cell_type": "code",
      "metadata": {
        "id": "SCrw_4dMd6qT",
        "colab_type": "code",
        "outputId": "650eb08a-bcfb-4bcc-bcb2-f354cf669ca8",
        "colab": {}
      },
      "source": [
        "tfBowA"
      ],
      "execution_count": 0,
      "outputs": [
        {
          "output_type": "execute_result",
          "data": {
            "text/plain": [
              "{'The': 0.16666666666666666,\n",
              " 'cat': 0.16666666666666666,\n",
              " 'bed': 0.0,\n",
              " 'dog': 0.0,\n",
              " 'my': 0.16666666666666666,\n",
              " 'face': 0.16666666666666666,\n",
              " 'sat': 0.16666666666666666,\n",
              " 'on': 0.16666666666666666}"
            ]
          },
          "metadata": {
            "tags": []
          },
          "execution_count": 66
        }
      ]
    },
    {
      "cell_type": "code",
      "metadata": {
        "id": "A-J5-2aed6qW",
        "colab_type": "code",
        "outputId": "319bb487-990d-4f09-e781-2251848c7539",
        "colab": {}
      },
      "source": [
        "tfBowB"
      ],
      "execution_count": 0,
      "outputs": [
        {
          "output_type": "execute_result",
          "data": {
            "text/plain": [
              "{'The': 0.16666666666666666,\n",
              " 'cat': 0.0,\n",
              " 'bed': 0.16666666666666666,\n",
              " 'dog': 0.16666666666666666,\n",
              " 'my': 0.16666666666666666,\n",
              " 'face': 0.0,\n",
              " 'sat': 0.16666666666666666,\n",
              " 'on': 0.16666666666666666}"
            ]
          },
          "metadata": {
            "tags": []
          },
          "execution_count": 67
        }
      ]
    },
    {
      "cell_type": "code",
      "metadata": {
        "id": "h23Pnv1hd6qa",
        "colab_type": "code",
        "colab": {}
      },
      "source": [
        "def computeIDF(docList):\n",
        "    import math\n",
        "    idfDict = {}\n",
        "    N = len(docList)\n",
        "    \n",
        "    idfDict = dict.fromkeys(docList[0].keys(), 0)\n",
        "    for doc in docList:\n",
        "        for word, val in doc.items():\n",
        "            if val > 0:\n",
        "                idfDict[word] += 1\n",
        "    \n",
        "    for word, val in idfDict.items():\n",
        "        idfDict[word] = math.log10(N / float(val))\n",
        "        \n",
        "    return idfDict    "
      ],
      "execution_count": 0,
      "outputs": []
    },
    {
      "cell_type": "code",
      "metadata": {
        "id": "F1rv2g70d6qe",
        "colab_type": "code",
        "colab": {}
      },
      "source": [
        "idfs = computeIDF([wordDictA, wordDictB])"
      ],
      "execution_count": 0,
      "outputs": []
    },
    {
      "cell_type": "code",
      "metadata": {
        "id": "9iWqU-Svd6qh",
        "colab_type": "code",
        "colab": {}
      },
      "source": [
        "def computeTFIDF(tfBow, idfs):\n",
        "    tfidf = {}\n",
        "    for word, val in tfBow.items():\n",
        "        tfidf[word] = val*idfs[word]\n",
        "    return tfidf\n",
        "    "
      ],
      "execution_count": 0,
      "outputs": []
    },
    {
      "cell_type": "code",
      "metadata": {
        "id": "QUurZNnId6ql",
        "colab_type": "code",
        "colab": {}
      },
      "source": [
        "tfidfBowA = computeTFIDF(tfBowA, idfs)\n",
        "tfidfBowB = computeTFIDF(tfBowB, idfs)"
      ],
      "execution_count": 0,
      "outputs": []
    },
    {
      "cell_type": "code",
      "metadata": {
        "id": "OeFdrhEAd6qp",
        "colab_type": "code",
        "outputId": "16632492-3d67-4e06-9069-856386f5f18e",
        "colab": {
          "base_uri": "https://localhost:8080/",
          "height": 184
        }
      },
      "source": [
        "import pandas as pd\n",
        "pd.DataFrame([tfidfBowA, tfidfBowB])"
      ],
      "execution_count": 0,
      "outputs": [
        {
          "output_type": "error",
          "ename": "NameError",
          "evalue": "ignored",
          "traceback": [
            "\u001b[0;31m---------------------------------------------------------------------------\u001b[0m",
            "\u001b[0;31mNameError\u001b[0m                                 Traceback (most recent call last)",
            "\u001b[0;32m<ipython-input-1-d967cc42d491>\u001b[0m in \u001b[0;36m<module>\u001b[0;34m()\u001b[0m\n\u001b[1;32m      1\u001b[0m \u001b[0;32mimport\u001b[0m \u001b[0mpandas\u001b[0m \u001b[0;32mas\u001b[0m \u001b[0mpd\u001b[0m\u001b[0;34m\u001b[0m\u001b[0;34m\u001b[0m\u001b[0m\n\u001b[0;32m----> 2\u001b[0;31m \u001b[0mpd\u001b[0m\u001b[0;34m.\u001b[0m\u001b[0mDataFrame\u001b[0m\u001b[0;34m(\u001b[0m\u001b[0;34m[\u001b[0m\u001b[0mtfidfBowA\u001b[0m\u001b[0;34m,\u001b[0m \u001b[0mtfidfBowB\u001b[0m\u001b[0;34m]\u001b[0m\u001b[0;34m)\u001b[0m\u001b[0;34m\u001b[0m\u001b[0;34m\u001b[0m\u001b[0m\n\u001b[0m",
            "\u001b[0;31mNameError\u001b[0m: name 'tfidfBowA' is not defined"
          ]
        }
      ]
    },
    {
      "cell_type": "code",
      "metadata": {
        "id": "bU_eh1gcDBX1",
        "colab_type": "code",
        "outputId": "5228e0ef-9ca8-4031-bf37-3aa95941a430",
        "colab": {
          "base_uri": "https://localhost:8080/",
          "height": 69
        }
      },
      "source": [
        "from sklearn.feature_extraction.text import CountVectorizer\n",
        "corpus = [\n",
        "    'a new car, used car, car review',\n",
        "    'a friend in need is a friend indeed'\n",
        "]\n",
        "vector = CountVectorizer()\n",
        "print(vector.fit_transform(corpus).toarray()) # 코퍼스로부터 각 단어의 빈도 수를 기록한다.\n",
        "print(vector.vocabulary_) # 각 단어의 인덱스가 어떻게 부여되었는지를 보여준다.\n"
      ],
      "execution_count": 0,
      "outputs": [
        {
          "output_type": "stream",
          "text": [
            "[[3 0 0 0 0 0 1 1 1]\n",
            " [0 2 1 1 1 1 0 0 0]]\n",
            "{'new': 6, 'car': 0, 'used': 8, 'review': 7, 'friend': 1, 'in': 2, 'need': 5, 'is': 4, 'indeed': 3}\n"
          ],
          "name": "stdout"
        }
      ]
    },
    {
      "cell_type": "code",
      "metadata": {
        "id": "yMQkiuOrEnQP",
        "colab_type": "code",
        "outputId": "115c7369-d506-4be1-c532-bb7206da3d35",
        "colab": {
          "base_uri": "https://localhost:8080/",
          "height": 104
        }
      },
      "source": [
        "from sklearn.feature_extraction.text import TfidfVectorizer\n",
        "corpus = [\n",
        "    'a new car, used car, car review',\n",
        "    'a friend in need is a friend indeed'    \n",
        "]\n",
        "tfidfv = TfidfVectorizer().fit(corpus)\n",
        "print(tfidfv.transform(corpus).toarray())\n",
        "print(tfidfv.vocabulary_)"
      ],
      "execution_count": 0,
      "outputs": [
        {
          "output_type": "stream",
          "text": [
            "[[0.8660254  0.         0.         0.         0.         0.\n",
            "  0.28867513 0.28867513 0.28867513]\n",
            " [0.         0.70710678 0.35355339 0.35355339 0.35355339 0.35355339\n",
            "  0.         0.         0.        ]]\n",
            "{'new': 6, 'car': 0, 'used': 8, 'review': 7, 'friend': 1, 'in': 2, 'need': 5, 'is': 4, 'indeed': 3}\n"
          ],
          "name": "stdout"
        }
      ]
    },
    {
      "cell_type": "code",
      "metadata": {
        "id": "F-lZwTmdEp4Q",
        "colab_type": "code",
        "colab": {}
      },
      "source": [
        ""
      ],
      "execution_count": 0,
      "outputs": []
    },
    {
      "cell_type": "code",
      "metadata": {
        "id": "vhcFtkOXF7wO",
        "colab_type": "code",
        "outputId": "b025cabb-89eb-4eaf-d29e-afd6a8924e60",
        "colab": {
          "base_uri": "https://localhost:8080/",
          "height": 225
        }
      },
      "source": [
        "from sklearn.feature_extraction.text import TfidfVectorizer\n",
        " \n",
        "mydoclist = [\n",
        "'a new car, used car, car review',\n",
        "    'a friend in need is a friend indeed'        \n",
        "    \n",
        "]\n",
        "\n",
        "# mydoclist = ['find what you love', 'do what you love', \"don't do what you hate\"]\n",
        " \n",
        " \n",
        "tfidf_vectorizer = TfidfVectorizer(min_df=1)\n",
        "tfidf_matrix = tfidf_vectorizer.fit_transform(mydoclist)\n",
        "\n",
        "print(tfidf_matrix)\n",
        " \n",
        "document_distances = (tfidf_matrix * tfidf_matrix.T)\n",
        " \n",
        "print ('유사도 분석을 위한 ' + str(document_distances.get_shape()[0]) + 'x' + str(document_distances.get_shape()[1]) + ' matrix를 만들었습니다.')\n",
        " \n",
        "print(document_distances.toarray())\n",
        " \n"
      ],
      "execution_count": 0,
      "outputs": [
        {
          "output_type": "stream",
          "text": [
            "  (0, 6)\t0.28867513459481287\n",
            "  (0, 0)\t0.8660254037844386\n",
            "  (0, 8)\t0.28867513459481287\n",
            "  (0, 7)\t0.28867513459481287\n",
            "  (1, 1)\t0.7071067811865476\n",
            "  (1, 2)\t0.3535533905932738\n",
            "  (1, 5)\t0.3535533905932738\n",
            "  (1, 4)\t0.3535533905932738\n",
            "  (1, 3)\t0.3535533905932738\n",
            "유사도 분석을 위한 2x2 matrix를 만들었습니다.\n",
            "[[1. 0.]\n",
            " [0. 1.]]\n"
          ],
          "name": "stdout"
        }
      ]
    },
    {
      "cell_type": "code",
      "metadata": {
        "id": "Z8HAwh7SF-T_",
        "colab_type": "code",
        "outputId": "8e64a883-34bf-43bb-9ef9-5c79779adfda",
        "colab": {
          "base_uri": "https://localhost:8080/",
          "height": 106
        }
      },
      "source": [
        "from sklearn.feature_extraction.text import TfidfVectorizer\n",
        "from collections import defaultdict\n",
        "\n",
        "corpus = [\n",
        "'a new car, used car, car review',\n",
        "    'a friend in need is a friend indeed'        \n",
        "    \n",
        "]\n",
        "\n",
        "# ============================================\n",
        "# -- Get TFIDF\n",
        "# ============================================\n",
        "vectorizer = TfidfVectorizer()\n",
        "sp_matrix = vectorizer.fit_transform(corpus)\n",
        "\n",
        "word2id = defaultdict(lambda : 0)\n",
        "for idx, feature in enumerate(vectorizer.get_feature_names()):\n",
        "    word2id[feature] = idx\n",
        "\n",
        "for i, sent in enumerate(corpus):\n",
        "    print('====== document[%d] ======' % i)\n",
        "    print( [ (token, sp_matrix[i, word2id[token]]) for token in sent.split() ] )\n",
        "\n"
      ],
      "execution_count": 0,
      "outputs": [
        {
          "output_type": "stream",
          "text": [
            "====== document[0] ======\n",
            "[('a', 0.8660254037844386), ('new', 0.28867513459481287), ('car,', 0.8660254037844386), ('used', 0.28867513459481287), ('car,', 0.8660254037844386), ('car', 0.8660254037844386), ('review', 0.28867513459481287)]\n",
            "====== document[1] ======\n",
            "[('a', 0.0), ('friend', 0.7071067811865476), ('in', 0.3535533905932738), ('need', 0.3535533905932738), ('is', 0.3535533905932738), ('a', 0.0), ('friend', 0.7071067811865476), ('indeed', 0.3535533905932738)]\n"
          ],
          "name": "stdout"
        }
      ]
    },
    {
      "cell_type": "code",
      "metadata": {
        "id": "QvsgCUmsJ3bD",
        "colab_type": "code",
        "colab": {}
      },
      "source": [
        "corpus = [\n",
        "    'a new car, used car, car review',\n",
        "    'a friend in need is a friend indeed'        \n",
        "]"
      ],
      "execution_count": 0,
      "outputs": []
    },
    {
      "cell_type": "code",
      "metadata": {
        "id": "8jfipDBFJ3g_",
        "colab_type": "code",
        "colab": {}
      },
      "source": [
        "from sklearn.feature_extraction.text import TfidfVectorizer"
      ],
      "execution_count": 0,
      "outputs": []
    },
    {
      "cell_type": "code",
      "metadata": {
        "id": "H9kTrjyHKB_V",
        "colab_type": "code",
        "outputId": "4e9cf7db-5fb8-4ff9-ad80-93ee49ab3687",
        "colab": {
          "base_uri": "https://localhost:8080/",
          "height": 86
        }
      },
      "source": [
        "tfidv = TfidfVectorizer().fit(corpus)\n",
        "tfidv.transform(corpus).toarray()"
      ],
      "execution_count": 0,
      "outputs": [
        {
          "output_type": "execute_result",
          "data": {
            "text/plain": [
              "array([[0.8660254 , 0.        , 0.        , 0.        , 0.        ,\n",
              "        0.        , 0.28867513, 0.28867513, 0.28867513],\n",
              "       [0.        , 0.70710678, 0.35355339, 0.35355339, 0.35355339,\n",
              "        0.35355339, 0.        , 0.        , 0.        ]])"
            ]
          },
          "metadata": {
            "tags": []
          },
          "execution_count": 14
        }
      ]
    },
    {
      "cell_type": "code",
      "metadata": {
        "id": "xENrMYenKEoV",
        "colab_type": "code",
        "colab": {}
      },
      "source": [
        "docA = \"a new car, used car, car review\"\n",
        "docB = \"a friend in need is a friend indeed\""
      ],
      "execution_count": 0,
      "outputs": []
    },
    {
      "cell_type": "code",
      "metadata": {
        "id": "j5IxP2-CFYxS",
        "colab_type": "code",
        "colab": {}
      },
      "source": [
        "bowA = docA.replace(\",\",\"\").split(\" \")\n",
        "bowB = docB.replace(\",\",\"\").split(\" \")"
      ],
      "execution_count": 0,
      "outputs": []
    },
    {
      "cell_type": "code",
      "metadata": {
        "id": "-4GcGjjEFf45",
        "colab_type": "code",
        "outputId": "be80b30d-ba25-4efa-e0e3-6790e4f3e53e",
        "colab": {
          "base_uri": "https://localhost:8080/",
          "height": 55
        }
      },
      "source": [
        "print(bowA)\n",
        "print(bowB)"
      ],
      "execution_count": 0,
      "outputs": [
        {
          "output_type": "stream",
          "text": [
            "['a', 'new', 'car', 'used', 'car', 'car', 'review']\n",
            "['a', 'friend', 'in', 'need', 'is', 'a', 'friend', 'indeed']\n"
          ],
          "name": "stdout"
        }
      ]
    },
    {
      "cell_type": "code",
      "metadata": {
        "id": "3OwJ8QCmFiK1",
        "colab_type": "code",
        "colab": {}
      },
      "source": [
        "wordSet = set(bowA).union(set(bowB))"
      ],
      "execution_count": 0,
      "outputs": []
    },
    {
      "cell_type": "code",
      "metadata": {
        "id": "5QnjCYVmFqP-",
        "colab_type": "code",
        "outputId": "fcda76d8-71ad-45bf-e6b3-27d07a14e6a3",
        "colab": {
          "base_uri": "https://localhost:8080/",
          "height": 36
        }
      },
      "source": [
        "wordSet"
      ],
      "execution_count": 0,
      "outputs": [
        {
          "output_type": "execute_result",
          "data": {
            "text/plain": [
              "{'a', 'car', 'friend', 'in', 'indeed', 'is', 'need', 'new', 'review', 'used'}"
            ]
          },
          "metadata": {
            "tags": []
          },
          "execution_count": 15
        }
      ]
    },
    {
      "cell_type": "code",
      "metadata": {
        "id": "cgLSkbNUFrGR",
        "colab_type": "code",
        "colab": {}
      },
      "source": [
        "wordDictA = dict.fromkeys(wordSet,0)\n",
        "wordDictB = dict.fromkeys(wordSet,0)"
      ],
      "execution_count": 0,
      "outputs": []
    },
    {
      "cell_type": "code",
      "metadata": {
        "id": "PRGYfLZPF3IN",
        "colab_type": "code",
        "outputId": "7e6df40b-021a-4f02-e273-928e43c34d69",
        "colab": {
          "base_uri": "https://localhost:8080/",
          "height": 204
        }
      },
      "source": [
        "wordDictA"
      ],
      "execution_count": 0,
      "outputs": [
        {
          "output_type": "execute_result",
          "data": {
            "text/plain": [
              "{'a': 0,\n",
              " 'car': 0,\n",
              " 'friend': 0,\n",
              " 'in': 0,\n",
              " 'indeed': 0,\n",
              " 'is': 0,\n",
              " 'need': 0,\n",
              " 'new': 0,\n",
              " 'review': 0,\n",
              " 'used': 0}"
            ]
          },
          "metadata": {
            "tags": []
          },
          "execution_count": 17
        }
      ]
    },
    {
      "cell_type": "code",
      "metadata": {
        "id": "x_LZkgtTGGUp",
        "colab_type": "code",
        "colab": {}
      },
      "source": [
        "for word in bowA:\n",
        "  wordDictA[word]+=1\n",
        "\n",
        "for word in bowB:\n",
        "  wordDictB[word]+=1"
      ],
      "execution_count": 0,
      "outputs": []
    },
    {
      "cell_type": "code",
      "metadata": {
        "id": "2A4kK_43F6JH",
        "colab_type": "code",
        "outputId": "463ef44b-b8b0-4721-f70a-014fb2b7bf04",
        "colab": {
          "base_uri": "https://localhost:8080/",
          "height": 110
        }
      },
      "source": [
        "import pandas as pd\n",
        "pd.DataFrame([wordDictA, wordDictB])"
      ],
      "execution_count": 0,
      "outputs": [
        {
          "output_type": "execute_result",
          "data": {
            "text/html": [
              "<div>\n",
              "<style scoped>\n",
              "    .dataframe tbody tr th:only-of-type {\n",
              "        vertical-align: middle;\n",
              "    }\n",
              "\n",
              "    .dataframe tbody tr th {\n",
              "        vertical-align: top;\n",
              "    }\n",
              "\n",
              "    .dataframe thead th {\n",
              "        text-align: right;\n",
              "    }\n",
              "</style>\n",
              "<table border=\"1\" class=\"dataframe\">\n",
              "  <thead>\n",
              "    <tr style=\"text-align: right;\">\n",
              "      <th></th>\n",
              "      <th>a</th>\n",
              "      <th>is</th>\n",
              "      <th>indeed</th>\n",
              "      <th>friend</th>\n",
              "      <th>need</th>\n",
              "      <th>in</th>\n",
              "      <th>review</th>\n",
              "      <th>new</th>\n",
              "      <th>used</th>\n",
              "      <th>car</th>\n",
              "    </tr>\n",
              "  </thead>\n",
              "  <tbody>\n",
              "    <tr>\n",
              "      <th>0</th>\n",
              "      <td>1</td>\n",
              "      <td>0</td>\n",
              "      <td>0</td>\n",
              "      <td>0</td>\n",
              "      <td>0</td>\n",
              "      <td>0</td>\n",
              "      <td>1</td>\n",
              "      <td>1</td>\n",
              "      <td>1</td>\n",
              "      <td>3</td>\n",
              "    </tr>\n",
              "    <tr>\n",
              "      <th>1</th>\n",
              "      <td>2</td>\n",
              "      <td>1</td>\n",
              "      <td>1</td>\n",
              "      <td>2</td>\n",
              "      <td>1</td>\n",
              "      <td>1</td>\n",
              "      <td>0</td>\n",
              "      <td>0</td>\n",
              "      <td>0</td>\n",
              "      <td>0</td>\n",
              "    </tr>\n",
              "  </tbody>\n",
              "</table>\n",
              "</div>"
            ],
            "text/plain": [
              "   a  is  indeed  friend  need  in  review  new  used  car\n",
              "0  1   0       0       0     0   0       1    1     1    3\n",
              "1  2   1       1       2     1   1       0    0     0    0"
            ]
          },
          "metadata": {
            "tags": []
          },
          "execution_count": 19
        }
      ]
    },
    {
      "cell_type": "code",
      "metadata": {
        "id": "hg6bjsuxGDQ6",
        "colab_type": "code",
        "colab": {}
      },
      "source": [
        "def computeTF(wordDict, bow):\n",
        "  tfDict = {}\n",
        "  bowCount = len(bow)\n",
        "  for word, count in wordDict.items():\n",
        "    tfDict[word] = count / float(bowCount)\n",
        "  return tfDict"
      ],
      "execution_count": 0,
      "outputs": []
    },
    {
      "cell_type": "code",
      "metadata": {
        "id": "e9g_wbHYGl2f",
        "colab_type": "code",
        "colab": {}
      },
      "source": [
        "tfBowA = computeTF(wordDictA, bowA)\n",
        "tfBowB = computeTF(wordDictB, bowB)"
      ],
      "execution_count": 0,
      "outputs": []
    },
    {
      "cell_type": "code",
      "metadata": {
        "id": "SRO89STxG1jD",
        "colab_type": "code",
        "outputId": "63d4ec90-9928-4f40-98cf-95091049fc46",
        "colab": {
          "base_uri": "https://localhost:8080/",
          "height": 204
        }
      },
      "source": [
        "tfBowA"
      ],
      "execution_count": 0,
      "outputs": [
        {
          "output_type": "execute_result",
          "data": {
            "text/plain": [
              "{'a': 0.14285714285714285,\n",
              " 'car': 0.42857142857142855,\n",
              " 'friend': 0.0,\n",
              " 'in': 0.0,\n",
              " 'indeed': 0.0,\n",
              " 'is': 0.0,\n",
              " 'need': 0.0,\n",
              " 'new': 0.14285714285714285,\n",
              " 'review': 0.14285714285714285,\n",
              " 'used': 0.14285714285714285}"
            ]
          },
          "metadata": {
            "tags": []
          },
          "execution_count": 22
        }
      ]
    },
    {
      "cell_type": "code",
      "metadata": {
        "id": "olZV4UQZG2gQ",
        "colab_type": "code",
        "colab": {}
      },
      "source": [
        "def computeIDF(docList):\n",
        "  import math\n",
        "  idfDict = {}\n",
        "  N = len(docList)\n",
        "\n",
        "  idfDict = dict.fromkeys(docList[0].keys(),0)\n",
        "\n",
        "  for doc in docList:\n",
        "    for word, val in doc.items():\n",
        "      if val > 0:\n",
        "        idfDict[word] += 1\n",
        "\n",
        "  for word, val in idfDict.items():\n",
        "    idfDict[word] = math.log10(N / float(val))\n",
        "\n",
        "  return idfDict"
      ],
      "execution_count": 0,
      "outputs": []
    },
    {
      "cell_type": "code",
      "metadata": {
        "id": "NHAUmml6HVkR",
        "colab_type": "code",
        "colab": {}
      },
      "source": [
        "idfs = computeIDF([wordDictA, wordDictB])"
      ],
      "execution_count": 0,
      "outputs": []
    },
    {
      "cell_type": "code",
      "metadata": {
        "id": "RXh2rPiyHcXm",
        "colab_type": "code",
        "outputId": "d9131936-9477-4d73-fa2b-9fd199f615aa",
        "colab": {
          "base_uri": "https://localhost:8080/",
          "height": 204
        }
      },
      "source": [
        "idfs"
      ],
      "execution_count": 0,
      "outputs": [
        {
          "output_type": "execute_result",
          "data": {
            "text/plain": [
              "{'a': 0.0,\n",
              " 'car': 0.3010299956639812,\n",
              " 'friend': 0.3010299956639812,\n",
              " 'in': 0.3010299956639812,\n",
              " 'indeed': 0.3010299956639812,\n",
              " 'is': 0.3010299956639812,\n",
              " 'need': 0.3010299956639812,\n",
              " 'new': 0.3010299956639812,\n",
              " 'review': 0.3010299956639812,\n",
              " 'used': 0.3010299956639812}"
            ]
          },
          "metadata": {
            "tags": []
          },
          "execution_count": 25
        }
      ]
    },
    {
      "cell_type": "code",
      "metadata": {
        "id": "rQccZAwLHdh3",
        "colab_type": "code",
        "colab": {}
      },
      "source": [
        "def computeTFIDF(tfBow, idfs):\n",
        "  tfidf = {}\n",
        "  for word, val in tfBow.items():\n",
        "    tfidf[word] = val * idfs[word]\n",
        "  return tfidf"
      ],
      "execution_count": 0,
      "outputs": []
    },
    {
      "cell_type": "code",
      "metadata": {
        "id": "CJiUwMs0H0v7",
        "colab_type": "code",
        "colab": {}
      },
      "source": [
        "tfidfBowA = computeTFIDF(tfBowA, idfs)\n",
        "tfidfBowB = computeTFIDF(tfBowB, idfs)"
      ],
      "execution_count": 0,
      "outputs": []
    },
    {
      "cell_type": "code",
      "metadata": {
        "id": "ay9-reBlH9Ir",
        "colab_type": "code",
        "outputId": "01a8179e-eea3-4d39-f120-71d7b8fd29b9",
        "colab": {
          "base_uri": "https://localhost:8080/",
          "height": 110
        }
      },
      "source": [
        "import pandas as pd\n",
        "pd.DataFrame([tfidfBowA, tfidfBowB])"
      ],
      "execution_count": 0,
      "outputs": [
        {
          "output_type": "execute_result",
          "data": {
            "text/html": [
              "<div>\n",
              "<style scoped>\n",
              "    .dataframe tbody tr th:only-of-type {\n",
              "        vertical-align: middle;\n",
              "    }\n",
              "\n",
              "    .dataframe tbody tr th {\n",
              "        vertical-align: top;\n",
              "    }\n",
              "\n",
              "    .dataframe thead th {\n",
              "        text-align: right;\n",
              "    }\n",
              "</style>\n",
              "<table border=\"1\" class=\"dataframe\">\n",
              "  <thead>\n",
              "    <tr style=\"text-align: right;\">\n",
              "      <th></th>\n",
              "      <th>a</th>\n",
              "      <th>is</th>\n",
              "      <th>indeed</th>\n",
              "      <th>friend</th>\n",
              "      <th>need</th>\n",
              "      <th>in</th>\n",
              "      <th>review</th>\n",
              "      <th>new</th>\n",
              "      <th>used</th>\n",
              "      <th>car</th>\n",
              "    </tr>\n",
              "  </thead>\n",
              "  <tbody>\n",
              "    <tr>\n",
              "      <th>0</th>\n",
              "      <td>0.0</td>\n",
              "      <td>0.000000</td>\n",
              "      <td>0.000000</td>\n",
              "      <td>0.000000</td>\n",
              "      <td>0.000000</td>\n",
              "      <td>0.000000</td>\n",
              "      <td>0.043004</td>\n",
              "      <td>0.043004</td>\n",
              "      <td>0.043004</td>\n",
              "      <td>0.129013</td>\n",
              "    </tr>\n",
              "    <tr>\n",
              "      <th>1</th>\n",
              "      <td>0.0</td>\n",
              "      <td>0.037629</td>\n",
              "      <td>0.037629</td>\n",
              "      <td>0.075257</td>\n",
              "      <td>0.037629</td>\n",
              "      <td>0.037629</td>\n",
              "      <td>0.000000</td>\n",
              "      <td>0.000000</td>\n",
              "      <td>0.000000</td>\n",
              "      <td>0.000000</td>\n",
              "    </tr>\n",
              "  </tbody>\n",
              "</table>\n",
              "</div>"
            ],
            "text/plain": [
              "     a        is    indeed    friend  ...    review       new      used       car\n",
              "0  0.0  0.000000  0.000000  0.000000  ...  0.043004  0.043004  0.043004  0.129013\n",
              "1  0.0  0.037629  0.037629  0.075257  ...  0.000000  0.000000  0.000000  0.000000\n",
              "\n",
              "[2 rows x 10 columns]"
            ]
          },
          "metadata": {
            "tags": []
          },
          "execution_count": 31
        }
      ]
    },
    {
      "cell_type": "code",
      "metadata": {
        "id": "YgYqrF2cIDkb",
        "colab_type": "code",
        "colab": {}
      },
      "source": [
        ""
      ],
      "execution_count": 0,
      "outputs": []
    }
  ]
}