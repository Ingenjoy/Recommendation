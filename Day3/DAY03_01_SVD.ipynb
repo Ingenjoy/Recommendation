{
  "nbformat": 4,
  "nbformat_minor": 0,
  "metadata": {
    "colab": {
      "name": "DAY03-01 SVD.ipynb",
      "provenance": [],
      "include_colab_link": true
    },
    "kernelspec": {
      "name": "python3",
      "display_name": "Python 3"
    }
  },
  "cells": [
    {
      "cell_type": "markdown",
      "metadata": {
        "id": "view-in-github",
        "colab_type": "text"
      },
      "source": [
        "<a href=\"https://colab.research.google.com/github/Ingenjoy/Recommendation/blob/master/Day3/DAY03_01_SVD.ipynb\" target=\"_parent\"><img src=\"https://colab.research.google.com/assets/colab-badge.svg\" alt=\"Open In Colab\"/></a>"
      ]
    },
    {
      "cell_type": "code",
      "metadata": {
        "id": "v00TMvzhTt1M",
        "colab_type": "code",
        "colab": {}
      },
      "source": [
        "import pandas as pd\n",
        "import numpy as np\n",
        "import seaborn as sns\n",
        "import matplotlib.pyplot as plt"
      ],
      "execution_count": 0,
      "outputs": []
    },
    {
      "cell_type": "code",
      "metadata": {
        "id": "yAw6iJL3aB-t",
        "colab_type": "code",
        "colab": {}
      },
      "source": [
        "ratings = [\n",
        "            [1,1,1,0,0],\n",
        "            [3,3,3,0,0],\n",
        "            [4,4,4,0,0],\n",
        "            [5,5,5,0,0],\n",
        "            [0,0,0,4,4],\n",
        "            [0,0,0,5,5],\n",
        "            [0,0,0,2,2]]\n",
        "df = pd.DataFrame(ratings, \n",
        "                    columns = ['스타워즈','아바타','혹성탈출','사랑과영혼','타이타닉'],\n",
        "                   index=['User01','User02','User03','User04','User05','User06','User07']\n",
        "                  )\n"
      ],
      "execution_count": 0,
      "outputs": []
    },
    {
      "cell_type": "code",
      "metadata": {
        "id": "4P4-gR6qbg7o",
        "colab_type": "code",
        "outputId": "56360e11-25a0-48fd-d84b-8a5c4cc045b9",
        "colab": {
          "base_uri": "https://localhost:8080/",
          "height": 158
        }
      },
      "source": [
        "print (df)"
      ],
      "execution_count": 0,
      "outputs": [
        {
          "output_type": "stream",
          "text": [
            "        스타워즈  아바타  혹성탈출  사랑과영혼  타이타닉\n",
            "User01     1    1     1      0     0\n",
            "User02     3    3     3      0     0\n",
            "User03     4    4     4      0     0\n",
            "User04     5    5     5      0     0\n",
            "User05     0    0     0      4     4\n",
            "User06     0    0     0      5     5\n",
            "User07     0    0     0      2     2\n"
          ],
          "name": "stdout"
        }
      ]
    },
    {
      "cell_type": "code",
      "metadata": {
        "id": "T3f55coGPB1e",
        "colab_type": "code",
        "colab": {}
      },
      "source": [
        "u, s, v = np.linalg.svd(df, full_matrices=False)"
      ],
      "execution_count": 0,
      "outputs": []
    },
    {
      "cell_type": "code",
      "metadata": {
        "id": "3YQTCJqFTHrh",
        "colab_type": "code",
        "outputId": "ad47da79-7905-4344-8a13-f74368185a95",
        "colab": {
          "base_uri": "https://localhost:8080/",
          "height": 70
        }
      },
      "source": [
        "print(\"u : \"+str(u.shape))\n",
        "print(\"s : \"+str(s.shape))\n",
        "print(\"v : \"+str(v.shape))"
      ],
      "execution_count": 0,
      "outputs": [
        {
          "output_type": "stream",
          "text": [
            "u : (7, 5)\n",
            "s : (5,)\n",
            "v : (5, 5)\n"
          ],
          "name": "stdout"
        }
      ]
    },
    {
      "cell_type": "code",
      "metadata": {
        "id": "DC_jR5JTWwzs",
        "colab_type": "code",
        "outputId": "f79ab839-81a8-4d22-a0ae-9adc29ede0a2",
        "colab": {
          "base_uri": "https://localhost:8080/",
          "height": 34
        }
      },
      "source": [
        "print(s)"
      ],
      "execution_count": 0,
      "outputs": [
        {
          "output_type": "stream",
          "text": [
            "[12.36931688  9.48683298  0.          0.          0.        ]\n"
          ],
          "name": "stdout"
        }
      ]
    },
    {
      "cell_type": "code",
      "metadata": {
        "id": "MS_EB1UrRirz",
        "colab_type": "code",
        "outputId": "44b142f5-c2f8-45d0-d7d1-5f119442a1ac",
        "colab": {
          "base_uri": "https://localhost:8080/",
          "height": 141
        }
      },
      "source": [
        "u"
      ],
      "execution_count": 0,
      "outputs": [
        {
          "output_type": "execute_result",
          "data": {
            "text/plain": [
              "array([[-0.14002801,  0.        ,  0.41748286, -0.56011203, -0.42008403],\n",
              "       [-0.42008403,  0.        ,  0.15383647, -0.20639328,  0.84520504],\n",
              "       [-0.56011203,  0.        ,  0.20511529,  0.72480896, -0.20639328],\n",
              "       [-0.70014004,  0.        , -0.33989068, -0.3439888 , -0.2579916 ],\n",
              "       [ 0.        , -0.59628479,  0.64444444,  0.        ,  0.        ],\n",
              "       [ 0.        , -0.74535599, -0.44444444,  0.        ,  0.        ],\n",
              "       [ 0.        , -0.2981424 , -0.17777778,  0.        ,  0.        ]])"
            ]
          },
          "metadata": {
            "tags": []
          },
          "execution_count": 46
        }
      ]
    },
    {
      "cell_type": "code",
      "metadata": {
        "id": "Q6c-p9UqXn9k",
        "colab_type": "code",
        "outputId": "1f5c15f2-5aca-46a3-a72c-097beb8cf3e7",
        "colab": {
          "base_uri": "https://localhost:8080/",
          "height": 158
        }
      },
      "source": [
        "print (pd.DataFrame(u))"
      ],
      "execution_count": 0,
      "outputs": [
        {
          "output_type": "stream",
          "text": [
            "          0         1         2         3         4\n",
            "0 -0.140028  0.000000  0.417483 -0.560112 -0.420084\n",
            "1 -0.420084  0.000000  0.153836 -0.206393  0.845205\n",
            "2 -0.560112  0.000000  0.205115  0.724809 -0.206393\n",
            "3 -0.700140  0.000000 -0.339891 -0.343989 -0.257992\n",
            "4  0.000000 -0.596285  0.644444  0.000000  0.000000\n",
            "5  0.000000 -0.745356 -0.444444  0.000000  0.000000\n",
            "6  0.000000 -0.298142 -0.177778  0.000000  0.000000\n"
          ],
          "name": "stdout"
        }
      ]
    },
    {
      "cell_type": "code",
      "metadata": {
        "id": "cA1oUpjeT2MF",
        "colab_type": "code",
        "outputId": "42b6e604-e504-4574-e1c4-12ca6f058acc",
        "colab": {
          "base_uri": "https://localhost:8080/",
          "height": 123
        }
      },
      "source": [
        "# s는 내림차순으로 정렬됨\n",
        "print(pd.DataFrame(s))"
      ],
      "execution_count": 0,
      "outputs": [
        {
          "output_type": "stream",
          "text": [
            "           0\n",
            "0  12.369317\n",
            "1   9.486833\n",
            "2   0.000000\n",
            "3   0.000000\n",
            "4   0.000000\n"
          ],
          "name": "stdout"
        }
      ]
    },
    {
      "cell_type": "code",
      "metadata": {
        "id": "_VMVDAA7YgHw",
        "colab_type": "code",
        "outputId": "abeb4f90-3143-4db4-8b40-28e0584b9f9d",
        "colab": {
          "base_uri": "https://localhost:8080/",
          "height": 123
        }
      },
      "source": [
        "print(pd.DataFrame(v))"
      ],
      "execution_count": 0,
      "outputs": [
        {
          "output_type": "stream",
          "text": [
            "          0         1         2         3         4\n",
            "0 -0.577350 -0.577350 -0.577350 -0.000000 -0.000000\n",
            "1 -0.000000 -0.000000 -0.000000 -0.707107 -0.707107\n",
            "2  0.000000  0.000000  0.000000 -0.707107  0.707107\n",
            "3  0.000000 -0.707107  0.707107  0.000000  0.000000\n",
            "4  0.816497 -0.408248 -0.408248  0.000000  0.000000\n"
          ],
          "name": "stdout"
        }
      ]
    },
    {
      "cell_type": "code",
      "metadata": {
        "id": "71WtK9nhdzu8",
        "colab_type": "code",
        "outputId": "15715a8c-8520-4170-b026-91ad11b1da6d",
        "colab": {
          "base_uri": "https://localhost:8080/",
          "height": 123
        }
      },
      "source": [
        "print(pd.DataFrame(np.diag(s)))"
      ],
      "execution_count": 0,
      "outputs": [
        {
          "output_type": "stream",
          "text": [
            "           0         1    2    3    4\n",
            "0  12.369317  0.000000  0.0  0.0  0.0\n",
            "1   0.000000  9.486833  0.0  0.0  0.0\n",
            "2   0.000000  0.000000  0.0  0.0  0.0\n",
            "3   0.000000  0.000000  0.0  0.0  0.0\n",
            "4   0.000000  0.000000  0.0  0.0  0.0\n"
          ],
          "name": "stdout"
        }
      ]
    },
    {
      "cell_type": "code",
      "metadata": {
        "id": "e_9tNEq-T6Iw",
        "colab_type": "code",
        "outputId": "cd7489b1-245c-4e60-c9a8-775fc491d5af",
        "colab": {
          "base_uri": "https://localhost:8080/",
          "height": 284
        }
      },
      "source": [
        "sns.barplot(x=list(range(1,len(s)+1)),\n",
        "            y=s, color=\"limegreen\")\n",
        "plt.xlabel('Singular vector', fontsize=16)\n",
        "plt.ylabel('Percent Variance Explained', fontsize=16)\n",
        "plt.savefig('svd_scree_plot.png',dpi=100)"
      ],
      "execution_count": 0,
      "outputs": [
        {
          "output_type": "display_data",
          "data": {
            "image/png": "[encoded data removed]",
            "text/plain": [
              "<Figure size 432x288 with 1 Axes>"
            ]
          },
          "metadata": {
            "tags": [],
            "needs_background": "light"
          }
        }
      ]
    },
    {
      "cell_type": "code",
      "metadata": {
        "id": "X0JagzdnS7QG",
        "colab_type": "code",
        "outputId": "ac89e8af-c86e-452b-e79d-3aa8d9b0399f",
        "colab": {
          "base_uri": "https://localhost:8080/",
          "height": 284
        }
      },
      "source": [
        "var_explained = np.round(s**2/np.sum(s**2), decimals=3)\n",
        "var_explained\n",
        " \n",
        "sns.barplot(x=list(range(1,len(var_explained)+1)),\n",
        "            y=var_explained, color=\"limegreen\")\n",
        "plt.xlabel('Singular vector', fontsize=16)\n",
        "plt.ylabel('Percent Variance Explained', fontsize=16)\n",
        "plt.savefig('svd_scree_plot.png',dpi=100)"
      ],
      "execution_count": 0,
      "outputs": [
        {
          "output_type": "display_data",
          "data": {
            "image/png": "[encoded data removed]",
            "text/plain": [
              "<Figure size 432x288 with 1 Axes>"
            ]
          },
          "metadata": {
            "tags": [],
            "needs_background": "light"
          }
        }
      ]
    },
    {
      "cell_type": "code",
      "metadata": {
        "id": "LiiF4Pv0r27t",
        "colab_type": "code",
        "outputId": "c84acc1a-0af6-423e-bb1b-411b07b5c3f9",
        "colab": {
          "base_uri": "https://localhost:8080/",
          "height": 143
        }
      },
      "source": [
        "u1 = u[:,:2]\n",
        "u1"
      ],
      "execution_count": 0,
      "outputs": [
        {
          "output_type": "execute_result",
          "data": {
            "text/plain": [
              "array([[-0.14002801,  0.        ],\n",
              "       [-0.42008403,  0.        ],\n",
              "       [-0.56011203,  0.        ],\n",
              "       [-0.70014004,  0.        ],\n",
              "       [ 0.        , -0.59628479],\n",
              "       [ 0.        , -0.74535599],\n",
              "       [ 0.        , -0.2981424 ]])"
            ]
          },
          "metadata": {
            "tags": []
          },
          "execution_count": 12
        }
      ]
    },
    {
      "cell_type": "code",
      "metadata": {
        "id": "iMt0wG8Msic2",
        "colab_type": "code",
        "outputId": "6a026ea2-8d2b-4158-dace-8d537633d696",
        "colab": {
          "base_uri": "https://localhost:8080/",
          "height": 53
        }
      },
      "source": [
        "v1 = v[:2,:]\n",
        "v1"
      ],
      "execution_count": 0,
      "outputs": [
        {
          "output_type": "execute_result",
          "data": {
            "text/plain": [
              "array([[-0.57735027, -0.57735027, -0.57735027, -0.        , -0.        ],\n",
              "       [-0.        , -0.        , -0.        , -0.70710678, -0.70710678]])"
            ]
          },
          "metadata": {
            "tags": []
          },
          "execution_count": 13
        }
      ]
    },
    {
      "cell_type": "code",
      "metadata": {
        "id": "_L0eJ-aYtvM7",
        "colab_type": "code",
        "outputId": "02b4c12b-771d-47ff-938d-3d8ba69e02ee",
        "colab": {
          "base_uri": "https://localhost:8080/",
          "height": 123
        }
      },
      "source": [
        "print(pd.DataFrame(np.diag(s)))"
      ],
      "execution_count": 0,
      "outputs": [
        {
          "output_type": "stream",
          "text": [
            "           0         1    2    3    4\n",
            "0  12.369317  0.000000  0.0  0.0  0.0\n",
            "1   0.000000  9.486833  0.0  0.0  0.0\n",
            "2   0.000000  0.000000  0.0  0.0  0.0\n",
            "3   0.000000  0.000000  0.0  0.0  0.0\n",
            "4   0.000000  0.000000  0.0  0.0  0.0\n"
          ],
          "name": "stdout"
        }
      ]
    },
    {
      "cell_type": "code",
      "metadata": {
        "id": "P2wwKzaotIpm",
        "colab_type": "code",
        "outputId": "2fffcd3f-7b27-49f9-db84-3b3f79002548",
        "colab": {
          "base_uri": "https://localhost:8080/",
          "height": 71
        }
      },
      "source": [
        "s1 = s[0:2]\n",
        "print(pd.DataFrame(np.diag(s1[0:2])))"
      ],
      "execution_count": 0,
      "outputs": [
        {
          "output_type": "stream",
          "text": [
            "           0         1\n",
            "0  12.369317  0.000000\n",
            "1   0.000000  9.486833\n"
          ],
          "name": "stdout"
        }
      ]
    },
    {
      "cell_type": "code",
      "metadata": {
        "id": "U84TLsxxulhO",
        "colab_type": "code",
        "outputId": "7340a219-f045-4c7b-92a5-bd55e047d1d7",
        "colab": {
          "base_uri": "https://localhost:8080/",
          "height": 257
        }
      },
      "source": [
        "df"
      ],
      "execution_count": 0,
      "outputs": [
        {
          "output_type": "execute_result",
          "data": {
            "text/html": [
              "<div>\n",
              "<style scoped>\n",
              "    .dataframe tbody tr th:only-of-type {\n",
              "        vertical-align: middle;\n",
              "    }\n",
              "\n",
              "    .dataframe tbody tr th {\n",
              "        vertical-align: top;\n",
              "    }\n",
              "\n",
              "    .dataframe thead th {\n",
              "        text-align: right;\n",
              "    }\n",
              "</style>\n",
              "<table border=\"1\" class=\"dataframe\">\n",
              "  <thead>\n",
              "    <tr style=\"text-align: right;\">\n",
              "      <th></th>\n",
              "      <th>스타워즈</th>\n",
              "      <th>아바타</th>\n",
              "      <th>혹성탈출</th>\n",
              "      <th>사랑과영혼</th>\n",
              "      <th>타이타닉</th>\n",
              "    </tr>\n",
              "  </thead>\n",
              "  <tbody>\n",
              "    <tr>\n",
              "      <th>User01</th>\n",
              "      <td>1</td>\n",
              "      <td>1</td>\n",
              "      <td>1</td>\n",
              "      <td>0</td>\n",
              "      <td>0</td>\n",
              "    </tr>\n",
              "    <tr>\n",
              "      <th>User02</th>\n",
              "      <td>3</td>\n",
              "      <td>3</td>\n",
              "      <td>3</td>\n",
              "      <td>0</td>\n",
              "      <td>0</td>\n",
              "    </tr>\n",
              "    <tr>\n",
              "      <th>User03</th>\n",
              "      <td>4</td>\n",
              "      <td>4</td>\n",
              "      <td>4</td>\n",
              "      <td>0</td>\n",
              "      <td>0</td>\n",
              "    </tr>\n",
              "    <tr>\n",
              "      <th>User04</th>\n",
              "      <td>5</td>\n",
              "      <td>5</td>\n",
              "      <td>5</td>\n",
              "      <td>0</td>\n",
              "      <td>0</td>\n",
              "    </tr>\n",
              "    <tr>\n",
              "      <th>User05</th>\n",
              "      <td>0</td>\n",
              "      <td>0</td>\n",
              "      <td>0</td>\n",
              "      <td>4</td>\n",
              "      <td>4</td>\n",
              "    </tr>\n",
              "    <tr>\n",
              "      <th>User06</th>\n",
              "      <td>0</td>\n",
              "      <td>0</td>\n",
              "      <td>0</td>\n",
              "      <td>5</td>\n",
              "      <td>5</td>\n",
              "    </tr>\n",
              "    <tr>\n",
              "      <th>User07</th>\n",
              "      <td>0</td>\n",
              "      <td>0</td>\n",
              "      <td>0</td>\n",
              "      <td>2</td>\n",
              "      <td>2</td>\n",
              "    </tr>\n",
              "  </tbody>\n",
              "</table>\n",
              "</div>"
            ],
            "text/plain": [
              "        스타워즈  아바타  혹성탈출  사랑과영혼  타이타닉\n",
              "User01     1    1     1      0     0\n",
              "User02     3    3     3      0     0\n",
              "User03     4    4     4      0     0\n",
              "User04     5    5     5      0     0\n",
              "User05     0    0     0      4     4\n",
              "User06     0    0     0      5     5\n",
              "User07     0    0     0      2     2"
            ]
          },
          "metadata": {
            "tags": []
          },
          "execution_count": 102
        }
      ]
    },
    {
      "cell_type": "code",
      "metadata": {
        "id": "D8xo4E0nvb0b",
        "colab_type": "code",
        "colab": {}
      },
      "source": [
        ""
      ],
      "execution_count": 0,
      "outputs": []
    },
    {
      "cell_type": "code",
      "metadata": {
        "id": "k7pvukAvuXXC",
        "colab_type": "code",
        "outputId": "1b68fb3a-eb14-42ac-f393-e481d1561a0c",
        "colab": {
          "base_uri": "https://localhost:8080/",
          "height": 141
        }
      },
      "source": [
        "np.matmul(np.matmul(u1, np.diag(s1)),v1)"
      ],
      "execution_count": 0,
      "outputs": [
        {
          "output_type": "execute_result",
          "data": {
            "text/plain": [
              "array([[1., 1., 1., 0., 0.],\n",
              "       [3., 3., 3., 0., 0.],\n",
              "       [4., 4., 4., 0., 0.],\n",
              "       [5., 5., 5., 0., 0.],\n",
              "       [0., 0., 0., 4., 4.],\n",
              "       [0., 0., 0., 5., 5.],\n",
              "       [0., 0., 0., 2., 2.]])"
            ]
          },
          "metadata": {
            "tags": []
          },
          "execution_count": 118
        }
      ]
    },
    {
      "cell_type": "markdown",
      "metadata": {
        "id": "tYSul1BcUER8",
        "colab_type": "text"
      },
      "source": [
        "reference\n",
        "https://cmdlinetips.com/2019/05/singular-value-decomposition-svd-in-python/"
      ]
    },
    {
      "cell_type": "code",
      "metadata": {
        "id": "ZlG4s8p-vdsq",
        "colab_type": "code",
        "outputId": "9ce39edc-5de9-412d-a3bc-89c74ba86f96",
        "colab": {
          "base_uri": "https://localhost:8080/",
          "height": 70
        }
      },
      "source": [
        "print(\"u : \"+str(u.shape))\n",
        "print(\"s : \"+str(s.shape))\n",
        "print(\"v : \"+str(v.shape))"
      ],
      "execution_count": 0,
      "outputs": [
        {
          "output_type": "stream",
          "text": [
            "u : (7, 5)\n",
            "s : (5,)\n",
            "v : (5, 5)\n"
          ],
          "name": "stdout"
        }
      ]
    },
    {
      "cell_type": "code",
      "metadata": {
        "id": "qWvZtqgQveA8",
        "colab_type": "code",
        "outputId": "1ff1b491-6ed3-4ee5-aa21-1888ca31ef3f",
        "colab": {
          "base_uri": "https://localhost:8080/",
          "height": 70
        }
      },
      "source": [
        "print(\"u : \"+str(u1.shape))\n",
        "print(\"s : \"+str(s1.shape))\n",
        "print(\"v : \"+str(v1.shape))"
      ],
      "execution_count": 0,
      "outputs": [
        {
          "output_type": "stream",
          "text": [
            "u : (7, 2)\n",
            "s : (2,)\n",
            "v : (5, 2)\n"
          ],
          "name": "stdout"
        }
      ]
    },
    {
      "cell_type": "markdown",
      "metadata": {
        "id": "Q06nFkzx6339",
        "colab_type": "text"
      },
      "source": [
        "SVD로 추천 시스템 구현하기"
      ]
    },
    {
      "cell_type": "code",
      "metadata": {
        "id": "bjQDZOp9vfIM",
        "colab_type": "code",
        "colab": {}
      },
      "source": [
        "import pandas as pd\n",
        "import numpy as np\n",
        "import seaborn as sns\n",
        "import matplotlib.pyplot as plt"
      ],
      "execution_count": 0,
      "outputs": []
    },
    {
      "cell_type": "code",
      "metadata": {
        "id": "ODAsHMbL886n",
        "colab_type": "code",
        "colab": {}
      },
      "source": [
        "ratings = [\n",
        "            [1,1,1,0,0],\n",
        "            [3,3,3,0,0],\n",
        "            [4,4,4,0,0],\n",
        "            [5,5,5,0,0],\n",
        "            [0,0,0,4,4],\n",
        "            [0,0,0,5,5],\n",
        "            [0,0,0,2,2]]\n",
        "df = pd.DataFrame(ratings, \n",
        "                    columns = ['스타워즈','아바타','혹성탈출','사랑과영혼','타이타닉'],\n",
        "                   index=['User01','User02','User03','User04','User05','User06','User07']\n",
        "                  )\n"
      ],
      "execution_count": 0,
      "outputs": []
    },
    {
      "cell_type": "code",
      "metadata": {
        "id": "m30B-fnF9Nv6",
        "colab_type": "code",
        "outputId": "89407d08-f945-484d-ebd8-c19f11d0bfaf",
        "colab": {
          "base_uri": "https://localhost:8080/",
          "height": 266
        }
      },
      "source": [
        "df"
      ],
      "execution_count": 0,
      "outputs": [
        {
          "output_type": "execute_result",
          "data": {
            "text/html": [
              "<div>\n",
              "<style scoped>\n",
              "    .dataframe tbody tr th:only-of-type {\n",
              "        vertical-align: middle;\n",
              "    }\n",
              "\n",
              "    .dataframe tbody tr th {\n",
              "        vertical-align: top;\n",
              "    }\n",
              "\n",
              "    .dataframe thead th {\n",
              "        text-align: right;\n",
              "    }\n",
              "</style>\n",
              "<table border=\"1\" class=\"dataframe\">\n",
              "  <thead>\n",
              "    <tr style=\"text-align: right;\">\n",
              "      <th></th>\n",
              "      <th>스타워즈</th>\n",
              "      <th>아바타</th>\n",
              "      <th>혹성탈출</th>\n",
              "      <th>사랑과영혼</th>\n",
              "      <th>타이타닉</th>\n",
              "    </tr>\n",
              "  </thead>\n",
              "  <tbody>\n",
              "    <tr>\n",
              "      <th>User01</th>\n",
              "      <td>1</td>\n",
              "      <td>1</td>\n",
              "      <td>1</td>\n",
              "      <td>0</td>\n",
              "      <td>0</td>\n",
              "    </tr>\n",
              "    <tr>\n",
              "      <th>User02</th>\n",
              "      <td>3</td>\n",
              "      <td>3</td>\n",
              "      <td>3</td>\n",
              "      <td>0</td>\n",
              "      <td>0</td>\n",
              "    </tr>\n",
              "    <tr>\n",
              "      <th>User03</th>\n",
              "      <td>4</td>\n",
              "      <td>4</td>\n",
              "      <td>4</td>\n",
              "      <td>0</td>\n",
              "      <td>0</td>\n",
              "    </tr>\n",
              "    <tr>\n",
              "      <th>User04</th>\n",
              "      <td>5</td>\n",
              "      <td>5</td>\n",
              "      <td>5</td>\n",
              "      <td>0</td>\n",
              "      <td>0</td>\n",
              "    </tr>\n",
              "    <tr>\n",
              "      <th>User05</th>\n",
              "      <td>0</td>\n",
              "      <td>0</td>\n",
              "      <td>0</td>\n",
              "      <td>4</td>\n",
              "      <td>4</td>\n",
              "    </tr>\n",
              "    <tr>\n",
              "      <th>User06</th>\n",
              "      <td>0</td>\n",
              "      <td>0</td>\n",
              "      <td>0</td>\n",
              "      <td>5</td>\n",
              "      <td>5</td>\n",
              "    </tr>\n",
              "    <tr>\n",
              "      <th>User07</th>\n",
              "      <td>0</td>\n",
              "      <td>0</td>\n",
              "      <td>0</td>\n",
              "      <td>2</td>\n",
              "      <td>2</td>\n",
              "    </tr>\n",
              "  </tbody>\n",
              "</table>\n",
              "</div>"
            ],
            "text/plain": [
              "        스타워즈  아바타  혹성탈출  사랑과영혼  타이타닉\n",
              "User01     1    1     1      0     0\n",
              "User02     3    3     3      0     0\n",
              "User03     4    4     4      0     0\n",
              "User04     5    5     5      0     0\n",
              "User05     0    0     0      4     4\n",
              "User06     0    0     0      5     5\n",
              "User07     0    0     0      2     2"
            ]
          },
          "metadata": {
            "tags": []
          },
          "execution_count": 5
        }
      ]
    },
    {
      "cell_type": "code",
      "metadata": {
        "id": "Sur_NI1t89Ps",
        "colab_type": "code",
        "outputId": "44e202f2-8d4a-45b9-c158-a103528f44b3",
        "colab": {
          "base_uri": "https://localhost:8080/",
          "height": 266
        }
      },
      "source": [
        "df.T.corr(method='pearson')"
      ],
      "execution_count": 0,
      "outputs": [
        {
          "output_type": "execute_result",
          "data": {
            "text/html": [
              "<div>\n",
              "<style scoped>\n",
              "    .dataframe tbody tr th:only-of-type {\n",
              "        vertical-align: middle;\n",
              "    }\n",
              "\n",
              "    .dataframe tbody tr th {\n",
              "        vertical-align: top;\n",
              "    }\n",
              "\n",
              "    .dataframe thead th {\n",
              "        text-align: right;\n",
              "    }\n",
              "</style>\n",
              "<table border=\"1\" class=\"dataframe\">\n",
              "  <thead>\n",
              "    <tr style=\"text-align: right;\">\n",
              "      <th></th>\n",
              "      <th>User01</th>\n",
              "      <th>User02</th>\n",
              "      <th>User03</th>\n",
              "      <th>User04</th>\n",
              "      <th>User05</th>\n",
              "      <th>User06</th>\n",
              "      <th>User07</th>\n",
              "    </tr>\n",
              "  </thead>\n",
              "  <tbody>\n",
              "    <tr>\n",
              "      <th>User01</th>\n",
              "      <td>1.0</td>\n",
              "      <td>1.0</td>\n",
              "      <td>1.0</td>\n",
              "      <td>1.0</td>\n",
              "      <td>-1.0</td>\n",
              "      <td>-1.0</td>\n",
              "      <td>-1.0</td>\n",
              "    </tr>\n",
              "    <tr>\n",
              "      <th>User02</th>\n",
              "      <td>1.0</td>\n",
              "      <td>1.0</td>\n",
              "      <td>1.0</td>\n",
              "      <td>1.0</td>\n",
              "      <td>-1.0</td>\n",
              "      <td>-1.0</td>\n",
              "      <td>-1.0</td>\n",
              "    </tr>\n",
              "    <tr>\n",
              "      <th>User03</th>\n",
              "      <td>1.0</td>\n",
              "      <td>1.0</td>\n",
              "      <td>1.0</td>\n",
              "      <td>1.0</td>\n",
              "      <td>-1.0</td>\n",
              "      <td>-1.0</td>\n",
              "      <td>-1.0</td>\n",
              "    </tr>\n",
              "    <tr>\n",
              "      <th>User04</th>\n",
              "      <td>1.0</td>\n",
              "      <td>1.0</td>\n",
              "      <td>1.0</td>\n",
              "      <td>1.0</td>\n",
              "      <td>-1.0</td>\n",
              "      <td>-1.0</td>\n",
              "      <td>-1.0</td>\n",
              "    </tr>\n",
              "    <tr>\n",
              "      <th>User05</th>\n",
              "      <td>-1.0</td>\n",
              "      <td>-1.0</td>\n",
              "      <td>-1.0</td>\n",
              "      <td>-1.0</td>\n",
              "      <td>1.0</td>\n",
              "      <td>1.0</td>\n",
              "      <td>1.0</td>\n",
              "    </tr>\n",
              "    <tr>\n",
              "      <th>User06</th>\n",
              "      <td>-1.0</td>\n",
              "      <td>-1.0</td>\n",
              "      <td>-1.0</td>\n",
              "      <td>-1.0</td>\n",
              "      <td>1.0</td>\n",
              "      <td>1.0</td>\n",
              "      <td>1.0</td>\n",
              "    </tr>\n",
              "    <tr>\n",
              "      <th>User07</th>\n",
              "      <td>-1.0</td>\n",
              "      <td>-1.0</td>\n",
              "      <td>-1.0</td>\n",
              "      <td>-1.0</td>\n",
              "      <td>1.0</td>\n",
              "      <td>1.0</td>\n",
              "      <td>1.0</td>\n",
              "    </tr>\n",
              "  </tbody>\n",
              "</table>\n",
              "</div>"
            ],
            "text/plain": [
              "        User01  User02  User03  User04  User05  User06  User07\n",
              "User01     1.0     1.0     1.0     1.0    -1.0    -1.0    -1.0\n",
              "User02     1.0     1.0     1.0     1.0    -1.0    -1.0    -1.0\n",
              "User03     1.0     1.0     1.0     1.0    -1.0    -1.0    -1.0\n",
              "User04     1.0     1.0     1.0     1.0    -1.0    -1.0    -1.0\n",
              "User05    -1.0    -1.0    -1.0    -1.0     1.0     1.0     1.0\n",
              "User06    -1.0    -1.0    -1.0    -1.0     1.0     1.0     1.0\n",
              "User07    -1.0    -1.0    -1.0    -1.0     1.0     1.0     1.0"
            ]
          },
          "metadata": {
            "tags": []
          },
          "execution_count": 9
        }
      ]
    },
    {
      "cell_type": "code",
      "metadata": {
        "id": "iaWa4Grd9Etm",
        "colab_type": "code",
        "outputId": "f9959eb7-2339-49c2-ae1c-eae104715d04",
        "colab": {
          "base_uri": "https://localhost:8080/",
          "height": 266
        }
      },
      "source": [
        "pd.DataFrame(np.matmul(np.matmul(u1, np.diag(s1)),v1)).T.corr(method='pearson')"
      ],
      "execution_count": 0,
      "outputs": [
        {
          "output_type": "execute_result",
          "data": {
            "text/html": [
              "<div>\n",
              "<style scoped>\n",
              "    .dataframe tbody tr th:only-of-type {\n",
              "        vertical-align: middle;\n",
              "    }\n",
              "\n",
              "    .dataframe tbody tr th {\n",
              "        vertical-align: top;\n",
              "    }\n",
              "\n",
              "    .dataframe thead th {\n",
              "        text-align: right;\n",
              "    }\n",
              "</style>\n",
              "<table border=\"1\" class=\"dataframe\">\n",
              "  <thead>\n",
              "    <tr style=\"text-align: right;\">\n",
              "      <th></th>\n",
              "      <th>0</th>\n",
              "      <th>1</th>\n",
              "      <th>2</th>\n",
              "      <th>3</th>\n",
              "      <th>4</th>\n",
              "      <th>5</th>\n",
              "      <th>6</th>\n",
              "    </tr>\n",
              "  </thead>\n",
              "  <tbody>\n",
              "    <tr>\n",
              "      <th>0</th>\n",
              "      <td>1.0</td>\n",
              "      <td>1.0</td>\n",
              "      <td>1.0</td>\n",
              "      <td>1.0</td>\n",
              "      <td>-1.0</td>\n",
              "      <td>-1.0</td>\n",
              "      <td>-1.0</td>\n",
              "    </tr>\n",
              "    <tr>\n",
              "      <th>1</th>\n",
              "      <td>1.0</td>\n",
              "      <td>1.0</td>\n",
              "      <td>1.0</td>\n",
              "      <td>1.0</td>\n",
              "      <td>-1.0</td>\n",
              "      <td>-1.0</td>\n",
              "      <td>-1.0</td>\n",
              "    </tr>\n",
              "    <tr>\n",
              "      <th>2</th>\n",
              "      <td>1.0</td>\n",
              "      <td>1.0</td>\n",
              "      <td>1.0</td>\n",
              "      <td>1.0</td>\n",
              "      <td>-1.0</td>\n",
              "      <td>-1.0</td>\n",
              "      <td>-1.0</td>\n",
              "    </tr>\n",
              "    <tr>\n",
              "      <th>3</th>\n",
              "      <td>1.0</td>\n",
              "      <td>1.0</td>\n",
              "      <td>1.0</td>\n",
              "      <td>1.0</td>\n",
              "      <td>-1.0</td>\n",
              "      <td>-1.0</td>\n",
              "      <td>-1.0</td>\n",
              "    </tr>\n",
              "    <tr>\n",
              "      <th>4</th>\n",
              "      <td>-1.0</td>\n",
              "      <td>-1.0</td>\n",
              "      <td>-1.0</td>\n",
              "      <td>-1.0</td>\n",
              "      <td>1.0</td>\n",
              "      <td>1.0</td>\n",
              "      <td>1.0</td>\n",
              "    </tr>\n",
              "    <tr>\n",
              "      <th>5</th>\n",
              "      <td>-1.0</td>\n",
              "      <td>-1.0</td>\n",
              "      <td>-1.0</td>\n",
              "      <td>-1.0</td>\n",
              "      <td>1.0</td>\n",
              "      <td>1.0</td>\n",
              "      <td>1.0</td>\n",
              "    </tr>\n",
              "    <tr>\n",
              "      <th>6</th>\n",
              "      <td>-1.0</td>\n",
              "      <td>-1.0</td>\n",
              "      <td>-1.0</td>\n",
              "      <td>-1.0</td>\n",
              "      <td>1.0</td>\n",
              "      <td>1.0</td>\n",
              "      <td>1.0</td>\n",
              "    </tr>\n",
              "  </tbody>\n",
              "</table>\n",
              "</div>"
            ],
            "text/plain": [
              "     0    1    2    3    4    5    6\n",
              "0  1.0  1.0  1.0  1.0 -1.0 -1.0 -1.0\n",
              "1  1.0  1.0  1.0  1.0 -1.0 -1.0 -1.0\n",
              "2  1.0  1.0  1.0  1.0 -1.0 -1.0 -1.0\n",
              "3  1.0  1.0  1.0  1.0 -1.0 -1.0 -1.0\n",
              "4 -1.0 -1.0 -1.0 -1.0  1.0  1.0  1.0\n",
              "5 -1.0 -1.0 -1.0 -1.0  1.0  1.0  1.0\n",
              "6 -1.0 -1.0 -1.0 -1.0  1.0  1.0  1.0"
            ]
          },
          "metadata": {
            "tags": []
          },
          "execution_count": 19
        }
      ]
    },
    {
      "cell_type": "code",
      "metadata": {
        "id": "6VSli8Y5-wX6",
        "colab_type": "code",
        "outputId": "13de4c6d-ca33-49e9-dc9f-67ee9c1ca2c8",
        "colab": {
          "base_uri": "https://localhost:8080/",
          "height": 204
        }
      },
      "source": [
        "df.corr(method='pearson')"
      ],
      "execution_count": 0,
      "outputs": [
        {
          "output_type": "execute_result",
          "data": {
            "text/html": [
              "<div>\n",
              "<style scoped>\n",
              "    .dataframe tbody tr th:only-of-type {\n",
              "        vertical-align: middle;\n",
              "    }\n",
              "\n",
              "    .dataframe tbody tr th {\n",
              "        vertical-align: top;\n",
              "    }\n",
              "\n",
              "    .dataframe thead th {\n",
              "        text-align: right;\n",
              "    }\n",
              "</style>\n",
              "<table border=\"1\" class=\"dataframe\">\n",
              "  <thead>\n",
              "    <tr style=\"text-align: right;\">\n",
              "      <th></th>\n",
              "      <th>스타워즈</th>\n",
              "      <th>아바타</th>\n",
              "      <th>혹성탈출</th>\n",
              "      <th>사랑과영혼</th>\n",
              "      <th>타이타닉</th>\n",
              "    </tr>\n",
              "  </thead>\n",
              "  <tbody>\n",
              "    <tr>\n",
              "      <th>스타워즈</th>\n",
              "      <td>1.000000</td>\n",
              "      <td>1.000000</td>\n",
              "      <td>1.000000</td>\n",
              "      <td>-0.748783</td>\n",
              "      <td>-0.748783</td>\n",
              "    </tr>\n",
              "    <tr>\n",
              "      <th>아바타</th>\n",
              "      <td>1.000000</td>\n",
              "      <td>1.000000</td>\n",
              "      <td>1.000000</td>\n",
              "      <td>-0.748783</td>\n",
              "      <td>-0.748783</td>\n",
              "    </tr>\n",
              "    <tr>\n",
              "      <th>혹성탈출</th>\n",
              "      <td>1.000000</td>\n",
              "      <td>1.000000</td>\n",
              "      <td>1.000000</td>\n",
              "      <td>-0.748783</td>\n",
              "      <td>-0.748783</td>\n",
              "    </tr>\n",
              "    <tr>\n",
              "      <th>사랑과영혼</th>\n",
              "      <td>-0.748783</td>\n",
              "      <td>-0.748783</td>\n",
              "      <td>-0.748783</td>\n",
              "      <td>1.000000</td>\n",
              "      <td>1.000000</td>\n",
              "    </tr>\n",
              "    <tr>\n",
              "      <th>타이타닉</th>\n",
              "      <td>-0.748783</td>\n",
              "      <td>-0.748783</td>\n",
              "      <td>-0.748783</td>\n",
              "      <td>1.000000</td>\n",
              "      <td>1.000000</td>\n",
              "    </tr>\n",
              "  </tbody>\n",
              "</table>\n",
              "</div>"
            ],
            "text/plain": [
              "           스타워즈       아바타      혹성탈출     사랑과영혼      타이타닉\n",
              "스타워즈   1.000000  1.000000  1.000000 -0.748783 -0.748783\n",
              "아바타    1.000000  1.000000  1.000000 -0.748783 -0.748783\n",
              "혹성탈출   1.000000  1.000000  1.000000 -0.748783 -0.748783\n",
              "사랑과영혼 -0.748783 -0.748783 -0.748783  1.000000  1.000000\n",
              "타이타닉  -0.748783 -0.748783 -0.748783  1.000000  1.000000"
            ]
          },
          "metadata": {
            "tags": []
          },
          "execution_count": 18
        }
      ]
    },
    {
      "cell_type": "code",
      "metadata": {
        "id": "88jH5V5E_WUE",
        "colab_type": "code",
        "outputId": "419d83a1-ddaf-4b0f-b466-4133678dd239",
        "colab": {
          "base_uri": "https://localhost:8080/",
          "height": 204
        }
      },
      "source": [
        "# SVD를 수행한 결과 데이터를 이용한 아이템 간 유사도\n",
        "pd.DataFrame(np.matmul(np.matmul(u1, np.diag(s1)),v1)).corr(method='pearson')"
      ],
      "execution_count": 0,
      "outputs": [
        {
          "output_type": "execute_result",
          "data": {
            "text/html": [
              "<div>\n",
              "<style scoped>\n",
              "    .dataframe tbody tr th:only-of-type {\n",
              "        vertical-align: middle;\n",
              "    }\n",
              "\n",
              "    .dataframe tbody tr th {\n",
              "        vertical-align: top;\n",
              "    }\n",
              "\n",
              "    .dataframe thead th {\n",
              "        text-align: right;\n",
              "    }\n",
              "</style>\n",
              "<table border=\"1\" class=\"dataframe\">\n",
              "  <thead>\n",
              "    <tr style=\"text-align: right;\">\n",
              "      <th></th>\n",
              "      <th>0</th>\n",
              "      <th>1</th>\n",
              "      <th>2</th>\n",
              "      <th>3</th>\n",
              "      <th>4</th>\n",
              "    </tr>\n",
              "  </thead>\n",
              "  <tbody>\n",
              "    <tr>\n",
              "      <th>0</th>\n",
              "      <td>1.000000</td>\n",
              "      <td>1.000000</td>\n",
              "      <td>1.000000</td>\n",
              "      <td>-0.748783</td>\n",
              "      <td>-0.748783</td>\n",
              "    </tr>\n",
              "    <tr>\n",
              "      <th>1</th>\n",
              "      <td>1.000000</td>\n",
              "      <td>1.000000</td>\n",
              "      <td>1.000000</td>\n",
              "      <td>-0.748783</td>\n",
              "      <td>-0.748783</td>\n",
              "    </tr>\n",
              "    <tr>\n",
              "      <th>2</th>\n",
              "      <td>1.000000</td>\n",
              "      <td>1.000000</td>\n",
              "      <td>1.000000</td>\n",
              "      <td>-0.748783</td>\n",
              "      <td>-0.748783</td>\n",
              "    </tr>\n",
              "    <tr>\n",
              "      <th>3</th>\n",
              "      <td>-0.748783</td>\n",
              "      <td>-0.748783</td>\n",
              "      <td>-0.748783</td>\n",
              "      <td>1.000000</td>\n",
              "      <td>1.000000</td>\n",
              "    </tr>\n",
              "    <tr>\n",
              "      <th>4</th>\n",
              "      <td>-0.748783</td>\n",
              "      <td>-0.748783</td>\n",
              "      <td>-0.748783</td>\n",
              "      <td>1.000000</td>\n",
              "      <td>1.000000</td>\n",
              "    </tr>\n",
              "  </tbody>\n",
              "</table>\n",
              "</div>"
            ],
            "text/plain": [
              "          0         1         2         3         4\n",
              "0  1.000000  1.000000  1.000000 -0.748783 -0.748783\n",
              "1  1.000000  1.000000  1.000000 -0.748783 -0.748783\n",
              "2  1.000000  1.000000  1.000000 -0.748783 -0.748783\n",
              "3 -0.748783 -0.748783 -0.748783  1.000000  1.000000\n",
              "4 -0.748783 -0.748783 -0.748783  1.000000  1.000000"
            ]
          },
          "metadata": {
            "tags": []
          },
          "execution_count": 20
        }
      ]
    },
    {
      "cell_type": "code",
      "metadata": {
        "id": "VnV6ng1JACop",
        "colab_type": "code",
        "colab": {}
      },
      "source": [
        ""
      ],
      "execution_count": 0,
      "outputs": []
    },
    {
      "cell_type": "markdown",
      "metadata": {
        "id": "KOW4gLAlAJEs",
        "colab_type": "text"
      },
      "source": [
        "차원 축소 후 사용자 간 유사도 계산\n"
      ]
    },
    {
      "cell_type": "code",
      "metadata": {
        "id": "OL0_-gETAJhX",
        "colab_type": "code",
        "outputId": "f422bced-9e62-4acc-ba58-310a6e6ba76e",
        "colab": {
          "base_uri": "https://localhost:8080/",
          "height": 266
        }
      },
      "source": [
        "# 사용자 행렬 x 대각 행렬\n",
        "pd.DataFrame(np.matmul(u1, np.diag(s1)))"
      ],
      "execution_count": 0,
      "outputs": [
        {
          "output_type": "execute_result",
          "data": {
            "text/html": [
              "<div>\n",
              "<style scoped>\n",
              "    .dataframe tbody tr th:only-of-type {\n",
              "        vertical-align: middle;\n",
              "    }\n",
              "\n",
              "    .dataframe tbody tr th {\n",
              "        vertical-align: top;\n",
              "    }\n",
              "\n",
              "    .dataframe thead th {\n",
              "        text-align: right;\n",
              "    }\n",
              "</style>\n",
              "<table border=\"1\" class=\"dataframe\">\n",
              "  <thead>\n",
              "    <tr style=\"text-align: right;\">\n",
              "      <th></th>\n",
              "      <th>0</th>\n",
              "      <th>1</th>\n",
              "    </tr>\n",
              "  </thead>\n",
              "  <tbody>\n",
              "    <tr>\n",
              "      <th>0</th>\n",
              "      <td>-1.732051</td>\n",
              "      <td>0.000000</td>\n",
              "    </tr>\n",
              "    <tr>\n",
              "      <th>1</th>\n",
              "      <td>-5.196152</td>\n",
              "      <td>0.000000</td>\n",
              "    </tr>\n",
              "    <tr>\n",
              "      <th>2</th>\n",
              "      <td>-6.928203</td>\n",
              "      <td>0.000000</td>\n",
              "    </tr>\n",
              "    <tr>\n",
              "      <th>3</th>\n",
              "      <td>-8.660254</td>\n",
              "      <td>0.000000</td>\n",
              "    </tr>\n",
              "    <tr>\n",
              "      <th>4</th>\n",
              "      <td>0.000000</td>\n",
              "      <td>-5.656854</td>\n",
              "    </tr>\n",
              "    <tr>\n",
              "      <th>5</th>\n",
              "      <td>0.000000</td>\n",
              "      <td>-7.071068</td>\n",
              "    </tr>\n",
              "    <tr>\n",
              "      <th>6</th>\n",
              "      <td>0.000000</td>\n",
              "      <td>-2.828427</td>\n",
              "    </tr>\n",
              "  </tbody>\n",
              "</table>\n",
              "</div>"
            ],
            "text/plain": [
              "          0         1\n",
              "0 -1.732051  0.000000\n",
              "1 -5.196152  0.000000\n",
              "2 -6.928203  0.000000\n",
              "3 -8.660254  0.000000\n",
              "4  0.000000 -5.656854\n",
              "5  0.000000 -7.071068\n",
              "6  0.000000 -2.828427"
            ]
          },
          "metadata": {
            "tags": []
          },
          "execution_count": 22
        }
      ]
    },
    {
      "cell_type": "code",
      "metadata": {
        "id": "jmhDzPZvARcX",
        "colab_type": "code",
        "outputId": "84b564e1-85fb-40cf-8f9f-45d53eb72cda",
        "colab": {
          "base_uri": "https://localhost:8080/",
          "height": 266
        }
      },
      "source": [
        "pd.DataFrame(np.matmul(u1, np.diag(s1))).T.corr(method='pearson')"
      ],
      "execution_count": 0,
      "outputs": [
        {
          "output_type": "execute_result",
          "data": {
            "text/html": [
              "<div>\n",
              "<style scoped>\n",
              "    .dataframe tbody tr th:only-of-type {\n",
              "        vertical-align: middle;\n",
              "    }\n",
              "\n",
              "    .dataframe tbody tr th {\n",
              "        vertical-align: top;\n",
              "    }\n",
              "\n",
              "    .dataframe thead th {\n",
              "        text-align: right;\n",
              "    }\n",
              "</style>\n",
              "<table border=\"1\" class=\"dataframe\">\n",
              "  <thead>\n",
              "    <tr style=\"text-align: right;\">\n",
              "      <th></th>\n",
              "      <th>0</th>\n",
              "      <th>1</th>\n",
              "      <th>2</th>\n",
              "      <th>3</th>\n",
              "      <th>4</th>\n",
              "      <th>5</th>\n",
              "      <th>6</th>\n",
              "    </tr>\n",
              "  </thead>\n",
              "  <tbody>\n",
              "    <tr>\n",
              "      <th>0</th>\n",
              "      <td>1.0</td>\n",
              "      <td>1.0</td>\n",
              "      <td>1.0</td>\n",
              "      <td>1.0</td>\n",
              "      <td>-1.0</td>\n",
              "      <td>-1.0</td>\n",
              "      <td>-1.0</td>\n",
              "    </tr>\n",
              "    <tr>\n",
              "      <th>1</th>\n",
              "      <td>1.0</td>\n",
              "      <td>1.0</td>\n",
              "      <td>1.0</td>\n",
              "      <td>1.0</td>\n",
              "      <td>-1.0</td>\n",
              "      <td>-1.0</td>\n",
              "      <td>-1.0</td>\n",
              "    </tr>\n",
              "    <tr>\n",
              "      <th>2</th>\n",
              "      <td>1.0</td>\n",
              "      <td>1.0</td>\n",
              "      <td>1.0</td>\n",
              "      <td>1.0</td>\n",
              "      <td>-1.0</td>\n",
              "      <td>-1.0</td>\n",
              "      <td>-1.0</td>\n",
              "    </tr>\n",
              "    <tr>\n",
              "      <th>3</th>\n",
              "      <td>1.0</td>\n",
              "      <td>1.0</td>\n",
              "      <td>1.0</td>\n",
              "      <td>1.0</td>\n",
              "      <td>-1.0</td>\n",
              "      <td>-1.0</td>\n",
              "      <td>-1.0</td>\n",
              "    </tr>\n",
              "    <tr>\n",
              "      <th>4</th>\n",
              "      <td>-1.0</td>\n",
              "      <td>-1.0</td>\n",
              "      <td>-1.0</td>\n",
              "      <td>-1.0</td>\n",
              "      <td>1.0</td>\n",
              "      <td>1.0</td>\n",
              "      <td>1.0</td>\n",
              "    </tr>\n",
              "    <tr>\n",
              "      <th>5</th>\n",
              "      <td>-1.0</td>\n",
              "      <td>-1.0</td>\n",
              "      <td>-1.0</td>\n",
              "      <td>-1.0</td>\n",
              "      <td>1.0</td>\n",
              "      <td>1.0</td>\n",
              "      <td>1.0</td>\n",
              "    </tr>\n",
              "    <tr>\n",
              "      <th>6</th>\n",
              "      <td>-1.0</td>\n",
              "      <td>-1.0</td>\n",
              "      <td>-1.0</td>\n",
              "      <td>-1.0</td>\n",
              "      <td>1.0</td>\n",
              "      <td>1.0</td>\n",
              "      <td>1.0</td>\n",
              "    </tr>\n",
              "  </tbody>\n",
              "</table>\n",
              "</div>"
            ],
            "text/plain": [
              "     0    1    2    3    4    5    6\n",
              "0  1.0  1.0  1.0  1.0 -1.0 -1.0 -1.0\n",
              "1  1.0  1.0  1.0  1.0 -1.0 -1.0 -1.0\n",
              "2  1.0  1.0  1.0  1.0 -1.0 -1.0 -1.0\n",
              "3  1.0  1.0  1.0  1.0 -1.0 -1.0 -1.0\n",
              "4 -1.0 -1.0 -1.0 -1.0  1.0  1.0  1.0\n",
              "5 -1.0 -1.0 -1.0 -1.0  1.0  1.0  1.0\n",
              "6 -1.0 -1.0 -1.0 -1.0  1.0  1.0  1.0"
            ]
          },
          "metadata": {
            "tags": []
          },
          "execution_count": 24
        }
      ]
    },
    {
      "cell_type": "code",
      "metadata": {
        "id": "wFTVyXawAeVc",
        "colab_type": "code",
        "outputId": "47480b09-eac0-4232-f34d-ef1792707e49",
        "colab": {
          "base_uri": "https://localhost:8080/",
          "height": 111
        }
      },
      "source": [
        "# 대각 행렬 x 아이템 행렬\n",
        "pd.DataFrame(np.matmul(np.diag(s1),v1))"
      ],
      "execution_count": 0,
      "outputs": [
        {
          "output_type": "execute_result",
          "data": {
            "text/html": [
              "<div>\n",
              "<style scoped>\n",
              "    .dataframe tbody tr th:only-of-type {\n",
              "        vertical-align: middle;\n",
              "    }\n",
              "\n",
              "    .dataframe tbody tr th {\n",
              "        vertical-align: top;\n",
              "    }\n",
              "\n",
              "    .dataframe thead th {\n",
              "        text-align: right;\n",
              "    }\n",
              "</style>\n",
              "<table border=\"1\" class=\"dataframe\">\n",
              "  <thead>\n",
              "    <tr style=\"text-align: right;\">\n",
              "      <th></th>\n",
              "      <th>0</th>\n",
              "      <th>1</th>\n",
              "      <th>2</th>\n",
              "      <th>3</th>\n",
              "      <th>4</th>\n",
              "    </tr>\n",
              "  </thead>\n",
              "  <tbody>\n",
              "    <tr>\n",
              "      <th>0</th>\n",
              "      <td>-7.141428</td>\n",
              "      <td>-7.141428</td>\n",
              "      <td>-7.141428</td>\n",
              "      <td>0.000000</td>\n",
              "      <td>0.000000</td>\n",
              "    </tr>\n",
              "    <tr>\n",
              "      <th>1</th>\n",
              "      <td>0.000000</td>\n",
              "      <td>0.000000</td>\n",
              "      <td>0.000000</td>\n",
              "      <td>-6.708204</td>\n",
              "      <td>-6.708204</td>\n",
              "    </tr>\n",
              "  </tbody>\n",
              "</table>\n",
              "</div>"
            ],
            "text/plain": [
              "          0         1         2         3         4\n",
              "0 -7.141428 -7.141428 -7.141428  0.000000  0.000000\n",
              "1  0.000000  0.000000  0.000000 -6.708204 -6.708204"
            ]
          },
          "metadata": {
            "tags": []
          },
          "execution_count": 26
        }
      ]
    },
    {
      "cell_type": "code",
      "metadata": {
        "id": "EoRNOYImA4cU",
        "colab_type": "code",
        "outputId": "7371ab36-8689-44b6-da52-5ed2a424074c",
        "colab": {
          "base_uri": "https://localhost:8080/",
          "height": 204
        }
      },
      "source": [
        "# 대각 행렬 x 아이템 행렬을 이용한 유사도\n",
        "pd.DataFrame(np.matmul(np.diag(s1),v1)).corr(method='pearson')"
      ],
      "execution_count": 0,
      "outputs": [
        {
          "output_type": "execute_result",
          "data": {
            "text/html": [
              "<div>\n",
              "<style scoped>\n",
              "    .dataframe tbody tr th:only-of-type {\n",
              "        vertical-align: middle;\n",
              "    }\n",
              "\n",
              "    .dataframe tbody tr th {\n",
              "        vertical-align: top;\n",
              "    }\n",
              "\n",
              "    .dataframe thead th {\n",
              "        text-align: right;\n",
              "    }\n",
              "</style>\n",
              "<table border=\"1\" class=\"dataframe\">\n",
              "  <thead>\n",
              "    <tr style=\"text-align: right;\">\n",
              "      <th></th>\n",
              "      <th>0</th>\n",
              "      <th>1</th>\n",
              "      <th>2</th>\n",
              "      <th>3</th>\n",
              "      <th>4</th>\n",
              "    </tr>\n",
              "  </thead>\n",
              "  <tbody>\n",
              "    <tr>\n",
              "      <th>0</th>\n",
              "      <td>1.0</td>\n",
              "      <td>1.0</td>\n",
              "      <td>1.0</td>\n",
              "      <td>-1.0</td>\n",
              "      <td>-1.0</td>\n",
              "    </tr>\n",
              "    <tr>\n",
              "      <th>1</th>\n",
              "      <td>1.0</td>\n",
              "      <td>1.0</td>\n",
              "      <td>1.0</td>\n",
              "      <td>-1.0</td>\n",
              "      <td>-1.0</td>\n",
              "    </tr>\n",
              "    <tr>\n",
              "      <th>2</th>\n",
              "      <td>1.0</td>\n",
              "      <td>1.0</td>\n",
              "      <td>1.0</td>\n",
              "      <td>-1.0</td>\n",
              "      <td>-1.0</td>\n",
              "    </tr>\n",
              "    <tr>\n",
              "      <th>3</th>\n",
              "      <td>-1.0</td>\n",
              "      <td>-1.0</td>\n",
              "      <td>-1.0</td>\n",
              "      <td>1.0</td>\n",
              "      <td>1.0</td>\n",
              "    </tr>\n",
              "    <tr>\n",
              "      <th>4</th>\n",
              "      <td>-1.0</td>\n",
              "      <td>-1.0</td>\n",
              "      <td>-1.0</td>\n",
              "      <td>1.0</td>\n",
              "      <td>1.0</td>\n",
              "    </tr>\n",
              "  </tbody>\n",
              "</table>\n",
              "</div>"
            ],
            "text/plain": [
              "     0    1    2    3    4\n",
              "0  1.0  1.0  1.0 -1.0 -1.0\n",
              "1  1.0  1.0  1.0 -1.0 -1.0\n",
              "2  1.0  1.0  1.0 -1.0 -1.0\n",
              "3 -1.0 -1.0 -1.0  1.0  1.0\n",
              "4 -1.0 -1.0 -1.0  1.0  1.0"
            ]
          },
          "metadata": {
            "tags": []
          },
          "execution_count": 27
        }
      ]
    },
    {
      "cell_type": "code",
      "metadata": {
        "id": "Uwhin3JNBLUr",
        "colab_type": "code",
        "colab": {}
      },
      "source": [
        ""
      ],
      "execution_count": 0,
      "outputs": []
    },
    {
      "cell_type": "markdown",
      "metadata": {
        "id": "otTTZRL7Bf2t",
        "colab_type": "text"
      },
      "source": [
        "이용자가 다양한 장르의 영화를 본다면\n"
      ]
    },
    {
      "cell_type": "code",
      "metadata": {
        "id": "FhQ58kArBgG9",
        "colab_type": "code",
        "colab": {}
      },
      "source": [
        "ratings2 = [\n",
        "            [1,1,1,0,0],\n",
        "            [3,3,3,0,0],\n",
        "            [4,4,4,0,0],\n",
        "            [5,5,5,0,0],\n",
        "            [0,0,0,4,4],\n",
        "            [0,0,0,5,5],\n",
        "            [0,1,0,2,2]]\n",
        "df2 = pd.DataFrame(ratings2, \n",
        "                    columns = ['스타워즈','아바타','혹성탈출','사랑과영혼','타이타닉'],\n",
        "                   index=['User01','User02','User03','User04','User05','User06','User07']\n",
        "                  )\n"
      ],
      "execution_count": 0,
      "outputs": []
    },
    {
      "cell_type": "code",
      "metadata": {
        "id": "PfJ_pm5FBko9",
        "colab_type": "code",
        "outputId": "4a3842df-2692-409c-ff18-3582517b94f4",
        "colab": {
          "base_uri": "https://localhost:8080/",
          "height": 266
        }
      },
      "source": [
        "df2"
      ],
      "execution_count": 0,
      "outputs": [
        {
          "output_type": "execute_result",
          "data": {
            "text/html": [
              "<div>\n",
              "<style scoped>\n",
              "    .dataframe tbody tr th:only-of-type {\n",
              "        vertical-align: middle;\n",
              "    }\n",
              "\n",
              "    .dataframe tbody tr th {\n",
              "        vertical-align: top;\n",
              "    }\n",
              "\n",
              "    .dataframe thead th {\n",
              "        text-align: right;\n",
              "    }\n",
              "</style>\n",
              "<table border=\"1\" class=\"dataframe\">\n",
              "  <thead>\n",
              "    <tr style=\"text-align: right;\">\n",
              "      <th></th>\n",
              "      <th>스타워즈</th>\n",
              "      <th>아바타</th>\n",
              "      <th>혹성탈출</th>\n",
              "      <th>사랑과영혼</th>\n",
              "      <th>타이타닉</th>\n",
              "    </tr>\n",
              "  </thead>\n",
              "  <tbody>\n",
              "    <tr>\n",
              "      <th>User01</th>\n",
              "      <td>1</td>\n",
              "      <td>1</td>\n",
              "      <td>1</td>\n",
              "      <td>0</td>\n",
              "      <td>0</td>\n",
              "    </tr>\n",
              "    <tr>\n",
              "      <th>User02</th>\n",
              "      <td>3</td>\n",
              "      <td>3</td>\n",
              "      <td>3</td>\n",
              "      <td>0</td>\n",
              "      <td>0</td>\n",
              "    </tr>\n",
              "    <tr>\n",
              "      <th>User03</th>\n",
              "      <td>4</td>\n",
              "      <td>4</td>\n",
              "      <td>4</td>\n",
              "      <td>0</td>\n",
              "      <td>0</td>\n",
              "    </tr>\n",
              "    <tr>\n",
              "      <th>User04</th>\n",
              "      <td>5</td>\n",
              "      <td>5</td>\n",
              "      <td>5</td>\n",
              "      <td>0</td>\n",
              "      <td>0</td>\n",
              "    </tr>\n",
              "    <tr>\n",
              "      <th>User05</th>\n",
              "      <td>0</td>\n",
              "      <td>0</td>\n",
              "      <td>0</td>\n",
              "      <td>4</td>\n",
              "      <td>4</td>\n",
              "    </tr>\n",
              "    <tr>\n",
              "      <th>User06</th>\n",
              "      <td>0</td>\n",
              "      <td>0</td>\n",
              "      <td>0</td>\n",
              "      <td>5</td>\n",
              "      <td>5</td>\n",
              "    </tr>\n",
              "    <tr>\n",
              "      <th>User07</th>\n",
              "      <td>0</td>\n",
              "      <td>1</td>\n",
              "      <td>0</td>\n",
              "      <td>2</td>\n",
              "      <td>2</td>\n",
              "    </tr>\n",
              "  </tbody>\n",
              "</table>\n",
              "</div>"
            ],
            "text/plain": [
              "        스타워즈  아바타  혹성탈출  사랑과영혼  타이타닉\n",
              "User01     1    1     1      0     0\n",
              "User02     3    3     3      0     0\n",
              "User03     4    4     4      0     0\n",
              "User04     5    5     5      0     0\n",
              "User05     0    0     0      4     4\n",
              "User06     0    0     0      5     5\n",
              "User07     0    1     0      2     2"
            ]
          },
          "metadata": {
            "tags": []
          },
          "execution_count": 33
        }
      ]
    },
    {
      "cell_type": "code",
      "metadata": {
        "id": "UAQT6MjBCNlV",
        "colab_type": "code",
        "outputId": "86aaeb95-e113-4930-e0bb-8227c6980b2d",
        "colab": {
          "base_uri": "https://localhost:8080/",
          "height": 266
        }
      },
      "source": [
        "pd.DataFrame(u)"
      ],
      "execution_count": 0,
      "outputs": [
        {
          "output_type": "execute_result",
          "data": {
            "text/html": [
              "<div>\n",
              "<style scoped>\n",
              "    .dataframe tbody tr th:only-of-type {\n",
              "        vertical-align: middle;\n",
              "    }\n",
              "\n",
              "    .dataframe tbody tr th {\n",
              "        vertical-align: top;\n",
              "    }\n",
              "\n",
              "    .dataframe thead th {\n",
              "        text-align: right;\n",
              "    }\n",
              "</style>\n",
              "<table border=\"1\" class=\"dataframe\">\n",
              "  <thead>\n",
              "    <tr style=\"text-align: right;\">\n",
              "      <th></th>\n",
              "      <th>0</th>\n",
              "      <th>1</th>\n",
              "      <th>2</th>\n",
              "      <th>3</th>\n",
              "      <th>4</th>\n",
              "    </tr>\n",
              "  </thead>\n",
              "  <tbody>\n",
              "    <tr>\n",
              "      <th>0</th>\n",
              "      <td>-0.140028</td>\n",
              "      <td>0.000000</td>\n",
              "      <td>0.417483</td>\n",
              "      <td>-0.560112</td>\n",
              "      <td>-0.420084</td>\n",
              "    </tr>\n",
              "    <tr>\n",
              "      <th>1</th>\n",
              "      <td>-0.420084</td>\n",
              "      <td>0.000000</td>\n",
              "      <td>0.153836</td>\n",
              "      <td>-0.206393</td>\n",
              "      <td>0.845205</td>\n",
              "    </tr>\n",
              "    <tr>\n",
              "      <th>2</th>\n",
              "      <td>-0.560112</td>\n",
              "      <td>0.000000</td>\n",
              "      <td>0.205115</td>\n",
              "      <td>0.724809</td>\n",
              "      <td>-0.206393</td>\n",
              "    </tr>\n",
              "    <tr>\n",
              "      <th>3</th>\n",
              "      <td>-0.700140</td>\n",
              "      <td>0.000000</td>\n",
              "      <td>-0.339891</td>\n",
              "      <td>-0.343989</td>\n",
              "      <td>-0.257992</td>\n",
              "    </tr>\n",
              "    <tr>\n",
              "      <th>4</th>\n",
              "      <td>0.000000</td>\n",
              "      <td>-0.596285</td>\n",
              "      <td>0.644444</td>\n",
              "      <td>0.000000</td>\n",
              "      <td>0.000000</td>\n",
              "    </tr>\n",
              "    <tr>\n",
              "      <th>5</th>\n",
              "      <td>0.000000</td>\n",
              "      <td>-0.745356</td>\n",
              "      <td>-0.444444</td>\n",
              "      <td>0.000000</td>\n",
              "      <td>0.000000</td>\n",
              "    </tr>\n",
              "    <tr>\n",
              "      <th>6</th>\n",
              "      <td>0.000000</td>\n",
              "      <td>-0.298142</td>\n",
              "      <td>-0.177778</td>\n",
              "      <td>0.000000</td>\n",
              "      <td>0.000000</td>\n",
              "    </tr>\n",
              "  </tbody>\n",
              "</table>\n",
              "</div>"
            ],
            "text/plain": [
              "          0         1         2         3         4\n",
              "0 -0.140028  0.000000  0.417483 -0.560112 -0.420084\n",
              "1 -0.420084  0.000000  0.153836 -0.206393  0.845205\n",
              "2 -0.560112  0.000000  0.205115  0.724809 -0.206393\n",
              "3 -0.700140  0.000000 -0.339891 -0.343989 -0.257992\n",
              "4  0.000000 -0.596285  0.644444  0.000000  0.000000\n",
              "5  0.000000 -0.745356 -0.444444  0.000000  0.000000\n",
              "6  0.000000 -0.298142 -0.177778  0.000000  0.000000"
            ]
          },
          "metadata": {
            "tags": []
          },
          "execution_count": 37
        }
      ]
    },
    {
      "cell_type": "code",
      "metadata": {
        "id": "xGz3q4AkCvZK",
        "colab_type": "code",
        "outputId": "a3bb48a6-01a4-4a0b-9b9e-6967f2b6f371",
        "colab": {
          "base_uri": "https://localhost:8080/",
          "height": 35
        }
      },
      "source": [
        "s"
      ],
      "execution_count": 0,
      "outputs": [
        {
          "output_type": "execute_result",
          "data": {
            "text/plain": [
              "array([12.36931688,  9.48683298,  0.        ,  0.        ,  0.        ])"
            ]
          },
          "metadata": {
            "tags": []
          },
          "execution_count": 39
        }
      ]
    },
    {
      "cell_type": "code",
      "metadata": {
        "id": "-Ad6TKFDDAQ9",
        "colab_type": "code",
        "outputId": "dab588b0-a9e9-413d-f313-c947a10da228",
        "colab": {
          "base_uri": "https://localhost:8080/",
          "height": 204
        }
      },
      "source": [
        "pd.DataFrame(v)"
      ],
      "execution_count": 0,
      "outputs": [
        {
          "output_type": "execute_result",
          "data": {
            "text/html": [
              "<div>\n",
              "<style scoped>\n",
              "    .dataframe tbody tr th:only-of-type {\n",
              "        vertical-align: middle;\n",
              "    }\n",
              "\n",
              "    .dataframe tbody tr th {\n",
              "        vertical-align: top;\n",
              "    }\n",
              "\n",
              "    .dataframe thead th {\n",
              "        text-align: right;\n",
              "    }\n",
              "</style>\n",
              "<table border=\"1\" class=\"dataframe\">\n",
              "  <thead>\n",
              "    <tr style=\"text-align: right;\">\n",
              "      <th></th>\n",
              "      <th>0</th>\n",
              "      <th>1</th>\n",
              "      <th>2</th>\n",
              "      <th>3</th>\n",
              "      <th>4</th>\n",
              "    </tr>\n",
              "  </thead>\n",
              "  <tbody>\n",
              "    <tr>\n",
              "      <th>0</th>\n",
              "      <td>-0.577350</td>\n",
              "      <td>-0.577350</td>\n",
              "      <td>-0.577350</td>\n",
              "      <td>-0.000000</td>\n",
              "      <td>-0.000000</td>\n",
              "    </tr>\n",
              "    <tr>\n",
              "      <th>1</th>\n",
              "      <td>-0.000000</td>\n",
              "      <td>-0.000000</td>\n",
              "      <td>-0.000000</td>\n",
              "      <td>-0.707107</td>\n",
              "      <td>-0.707107</td>\n",
              "    </tr>\n",
              "    <tr>\n",
              "      <th>2</th>\n",
              "      <td>0.000000</td>\n",
              "      <td>0.000000</td>\n",
              "      <td>0.000000</td>\n",
              "      <td>-0.707107</td>\n",
              "      <td>0.707107</td>\n",
              "    </tr>\n",
              "    <tr>\n",
              "      <th>3</th>\n",
              "      <td>0.000000</td>\n",
              "      <td>-0.707107</td>\n",
              "      <td>0.707107</td>\n",
              "      <td>0.000000</td>\n",
              "      <td>0.000000</td>\n",
              "    </tr>\n",
              "    <tr>\n",
              "      <th>4</th>\n",
              "      <td>0.816497</td>\n",
              "      <td>-0.408248</td>\n",
              "      <td>-0.408248</td>\n",
              "      <td>0.000000</td>\n",
              "      <td>0.000000</td>\n",
              "    </tr>\n",
              "  </tbody>\n",
              "</table>\n",
              "</div>"
            ],
            "text/plain": [
              "          0         1         2         3         4\n",
              "0 -0.577350 -0.577350 -0.577350 -0.000000 -0.000000\n",
              "1 -0.000000 -0.000000 -0.000000 -0.707107 -0.707107\n",
              "2  0.000000  0.000000  0.000000 -0.707107  0.707107\n",
              "3  0.000000 -0.707107  0.707107  0.000000  0.000000\n",
              "4  0.816497 -0.408248 -0.408248  0.000000  0.000000"
            ]
          },
          "metadata": {
            "tags": []
          },
          "execution_count": 40
        }
      ]
    },
    {
      "cell_type": "code",
      "metadata": {
        "id": "RubfLgGdDCyH",
        "colab_type": "code",
        "colab": {}
      },
      "source": [
        "uu, ss, vv = np.linalg.svd(df2, full_matrices=False)"
      ],
      "execution_count": 0,
      "outputs": []
    },
    {
      "cell_type": "code",
      "metadata": {
        "id": "UKp6lbx8DQm1",
        "colab_type": "code",
        "outputId": "a52cbff5-f48c-4a9f-ddfa-9f01429279ea",
        "colab": {
          "base_uri": "https://localhost:8080/",
          "height": 266
        }
      },
      "source": [
        "pd.DataFrame(uu)"
      ],
      "execution_count": 0,
      "outputs": [
        {
          "output_type": "execute_result",
          "data": {
            "text/html": [
              "<div>\n",
              "<style scoped>\n",
              "    .dataframe tbody tr th:only-of-type {\n",
              "        vertical-align: middle;\n",
              "    }\n",
              "\n",
              "    .dataframe tbody tr th {\n",
              "        vertical-align: top;\n",
              "    }\n",
              "\n",
              "    .dataframe thead th {\n",
              "        text-align: right;\n",
              "    }\n",
              "</style>\n",
              "<table border=\"1\" class=\"dataframe\">\n",
              "  <thead>\n",
              "    <tr style=\"text-align: right;\">\n",
              "      <th></th>\n",
              "      <th>0</th>\n",
              "      <th>1</th>\n",
              "      <th>2</th>\n",
              "      <th>3</th>\n",
              "      <th>4</th>\n",
              "    </tr>\n",
              "  </thead>\n",
              "  <tbody>\n",
              "    <tr>\n",
              "      <th>0</th>\n",
              "      <td>-0.139808</td>\n",
              "      <td>-0.004740</td>\n",
              "      <td>-0.006253</td>\n",
              "      <td>1.624366e-01</td>\n",
              "      <td>-0.536041</td>\n",
              "    </tr>\n",
              "    <tr>\n",
              "      <th>1</th>\n",
              "      <td>-0.419424</td>\n",
              "      <td>-0.014220</td>\n",
              "      <td>-0.018759</td>\n",
              "      <td>5.985558e-02</td>\n",
              "      <td>-0.197523</td>\n",
              "    </tr>\n",
              "    <tr>\n",
              "      <th>2</th>\n",
              "      <td>-0.559232</td>\n",
              "      <td>-0.018960</td>\n",
              "      <td>-0.025012</td>\n",
              "      <td>-2.102000e-01</td>\n",
              "      <td>0.693660</td>\n",
              "    </tr>\n",
              "    <tr>\n",
              "      <th>3</th>\n",
              "      <td>-0.699040</td>\n",
              "      <td>-0.023701</td>\n",
              "      <td>-0.031266</td>\n",
              "      <td>9.975929e-02</td>\n",
              "      <td>-0.329206</td>\n",
              "    </tr>\n",
              "    <tr>\n",
              "      <th>4</th>\n",
              "      <td>-0.011823</td>\n",
              "      <td>0.595831</td>\n",
              "      <td>-0.187323</td>\n",
              "      <td>7.473105e-01</td>\n",
              "      <td>0.226458</td>\n",
              "    </tr>\n",
              "    <tr>\n",
              "      <th>5</th>\n",
              "      <td>-0.014779</td>\n",
              "      <td>0.744788</td>\n",
              "      <td>-0.234153</td>\n",
              "      <td>-5.978484e-01</td>\n",
              "      <td>-0.181166</td>\n",
              "    </tr>\n",
              "    <tr>\n",
              "      <th>6</th>\n",
              "      <td>-0.052743</td>\n",
              "      <td>0.298546</td>\n",
              "      <td>0.952937</td>\n",
              "      <td>8.700336e-16</td>\n",
              "      <td>0.000000</td>\n",
              "    </tr>\n",
              "  </tbody>\n",
              "</table>\n",
              "</div>"
            ],
            "text/plain": [
              "          0         1         2             3         4\n",
              "0 -0.139808 -0.004740 -0.006253  1.624366e-01 -0.536041\n",
              "1 -0.419424 -0.014220 -0.018759  5.985558e-02 -0.197523\n",
              "2 -0.559232 -0.018960 -0.025012 -2.102000e-01  0.693660\n",
              "3 -0.699040 -0.023701 -0.031266  9.975929e-02 -0.329206\n",
              "4 -0.011823  0.595831 -0.187323  7.473105e-01  0.226458\n",
              "5 -0.014779  0.744788 -0.234153 -5.978484e-01 -0.181166\n",
              "6 -0.052743  0.298546  0.952937  8.700336e-16  0.000000"
            ]
          },
          "metadata": {
            "tags": []
          },
          "execution_count": 42
        }
      ]
    },
    {
      "cell_type": "code",
      "metadata": {
        "id": "lq4oJzx1DTMg",
        "colab_type": "code",
        "outputId": "487f65c4-21d1-4334-b61f-7000eab640ba",
        "colab": {
          "base_uri": "https://localhost:8080/",
          "height": 53
        }
      },
      "source": [
        "ss"
      ],
      "execution_count": 0,
      "outputs": [
        {
          "output_type": "execute_result",
          "data": {
            "text/plain": [
              "array([1.23845572e+01, 9.48772599e+00, 7.78331122e-01, 4.10137766e-16,\n",
              "       3.66219481e-32])"
            ]
          },
          "metadata": {
            "tags": []
          },
          "execution_count": 45
        }
      ]
    },
    {
      "cell_type": "code",
      "metadata": {
        "id": "8ZNzZlBWDVa-",
        "colab_type": "code",
        "outputId": "fba341d8-4583-44f5-d469-9738c3acee53",
        "colab": {
          "base_uri": "https://localhost:8080/",
          "height": 204
        }
      },
      "source": [
        "pd.DataFrame(vv)"
      ],
      "execution_count": 0,
      "outputs": [
        {
          "output_type": "execute_result",
          "data": {
            "text/html": [
              "<div>\n",
              "<style scoped>\n",
              "    .dataframe tbody tr th:only-of-type {\n",
              "        vertical-align: middle;\n",
              "    }\n",
              "\n",
              "    .dataframe tbody tr th {\n",
              "        vertical-align: top;\n",
              "    }\n",
              "\n",
              "    .dataframe thead th {\n",
              "        text-align: right;\n",
              "    }\n",
              "</style>\n",
              "<table border=\"1\" class=\"dataframe\">\n",
              "  <thead>\n",
              "    <tr style=\"text-align: right;\">\n",
              "      <th></th>\n",
              "      <th>0</th>\n",
              "      <th>1</th>\n",
              "      <th>2</th>\n",
              "      <th>3</th>\n",
              "      <th>4</th>\n",
              "    </tr>\n",
              "  </thead>\n",
              "  <tbody>\n",
              "    <tr>\n",
              "      <th>0</th>\n",
              "      <td>-0.575734</td>\n",
              "      <td>-5.799925e-01</td>\n",
              "      <td>-5.757337e-01</td>\n",
              "      <td>-1.830286e-02</td>\n",
              "      <td>-1.830286e-02</td>\n",
              "    </tr>\n",
              "    <tr>\n",
              "      <th>1</th>\n",
              "      <td>-0.025480</td>\n",
              "      <td>5.986783e-03</td>\n",
              "      <td>-2.547981e-02</td>\n",
              "      <td>7.066349e-01</td>\n",
              "      <td>7.066349e-01</td>\n",
              "    </tr>\n",
              "    <tr>\n",
              "      <th>2</th>\n",
              "      <td>-0.409733</td>\n",
              "      <td>8.145998e-01</td>\n",
              "      <td>-4.097334e-01</td>\n",
              "      <td>-1.822489e-02</td>\n",
              "      <td>-1.822489e-02</td>\n",
              "    </tr>\n",
              "    <tr>\n",
              "      <th>3</th>\n",
              "      <td>-0.707107</td>\n",
              "      <td>5.551115e-16</td>\n",
              "      <td>7.071068e-01</td>\n",
              "      <td>5.551115e-17</td>\n",
              "      <td>5.551115e-17</td>\n",
              "    </tr>\n",
              "    <tr>\n",
              "      <th>4</th>\n",
              "      <td>0.000000</td>\n",
              "      <td>4.877240e-17</td>\n",
              "      <td>-4.877240e-17</td>\n",
              "      <td>-7.071068e-01</td>\n",
              "      <td>7.071068e-01</td>\n",
              "    </tr>\n",
              "  </tbody>\n",
              "</table>\n",
              "</div>"
            ],
            "text/plain": [
              "          0             1             2             3             4\n",
              "0 -0.575734 -5.799925e-01 -5.757337e-01 -1.830286e-02 -1.830286e-02\n",
              "1 -0.025480  5.986783e-03 -2.547981e-02  7.066349e-01  7.066349e-01\n",
              "2 -0.409733  8.145998e-01 -4.097334e-01 -1.822489e-02 -1.822489e-02\n",
              "3 -0.707107  5.551115e-16  7.071068e-01  5.551115e-17  5.551115e-17\n",
              "4  0.000000  4.877240e-17 -4.877240e-17 -7.071068e-01  7.071068e-01"
            ]
          },
          "metadata": {
            "tags": []
          },
          "execution_count": 46
        }
      ]
    },
    {
      "cell_type": "code",
      "metadata": {
        "id": "UDhEaxsSDcKm",
        "colab_type": "code",
        "outputId": "911890c4-0b74-4602-df55-2da0fb577700",
        "colab": {
          "base_uri": "https://localhost:8080/",
          "height": 125
        }
      },
      "source": [
        "print(pd.DataFrame(np.diag(s)))"
      ],
      "execution_count": 0,
      "outputs": [
        {
          "output_type": "stream",
          "text": [
            "           0         1    2    3    4\n",
            "0  12.369317  0.000000  0.0  0.0  0.0\n",
            "1   0.000000  9.486833  0.0  0.0  0.0\n",
            "2   0.000000  0.000000  0.0  0.0  0.0\n",
            "3   0.000000  0.000000  0.0  0.0  0.0\n",
            "4   0.000000  0.000000  0.0  0.0  0.0\n"
          ],
          "name": "stdout"
        }
      ]
    },
    {
      "cell_type": "code",
      "metadata": {
        "id": "xnIS8TFLDrZc",
        "colab_type": "code",
        "outputId": "ab0cc0d0-c7ca-466d-a35a-6f53cd456e27",
        "colab": {
          "base_uri": "https://localhost:8080/",
          "height": 125
        }
      },
      "source": [
        "print(pd.DataFrame(np.diag(ss)))"
      ],
      "execution_count": 0,
      "outputs": [
        {
          "output_type": "stream",
          "text": [
            "           0         1         2             3             4\n",
            "0  12.384557  0.000000  0.000000  0.000000e+00  0.000000e+00\n",
            "1   0.000000  9.487726  0.000000  0.000000e+00  0.000000e+00\n",
            "2   0.000000  0.000000  0.778331  0.000000e+00  0.000000e+00\n",
            "3   0.000000  0.000000  0.000000  4.101378e-16  0.000000e+00\n",
            "4   0.000000  0.000000  0.000000  0.000000e+00  3.662195e-32\n"
          ],
          "name": "stdout"
        }
      ]
    },
    {
      "cell_type": "code",
      "metadata": {
        "id": "Qz6xtjpbDsZ9",
        "colab_type": "code",
        "colab": {}
      },
      "source": [
        ""
      ],
      "execution_count": 0,
      "outputs": []
    },
    {
      "cell_type": "markdown",
      "metadata": {
        "id": "5xFbChDzD7bK",
        "colab_type": "text"
      },
      "source": [
        "새로운 이용자가 추가 된다면?\n"
      ]
    },
    {
      "cell_type": "code",
      "metadata": {
        "id": "G0tSm-TDD75M",
        "colab_type": "code",
        "colab": {}
      },
      "source": [
        "ratings3 = [\n",
        "            [1,1,1,0,0],\n",
        "            [3,3,3,0,0],\n",
        "            [4,4,4,0,0],\n",
        "            [5,5,5,0,0],\n",
        "            [0,0,0,4,4],\n",
        "            [0,0,0,5,5],\n",
        "            [0,1,0,2,2],\n",
        "            [4,3,3,3,2]]\n",
        "df3 = pd.DataFrame(ratings3, \n",
        "                    columns = ['스타워즈','아바타','혹성탈출','사랑과영혼','타이타닉'],\n",
        "                   index=['User01','User02','User03','User04','User05','User06','User07','User08']\n",
        "                  )\n"
      ],
      "execution_count": 0,
      "outputs": []
    },
    {
      "cell_type": "code",
      "metadata": {
        "id": "OdmuT5gcEIXE",
        "colab_type": "code",
        "outputId": "0c62e315-0e1e-47e5-a80e-1f7386e4ac5e",
        "colab": {
          "base_uri": "https://localhost:8080/",
          "height": 297
        }
      },
      "source": [
        "df3"
      ],
      "execution_count": 0,
      "outputs": [
        {
          "output_type": "execute_result",
          "data": {
            "text/html": [
              "<div>\n",
              "<style scoped>\n",
              "    .dataframe tbody tr th:only-of-type {\n",
              "        vertical-align: middle;\n",
              "    }\n",
              "\n",
              "    .dataframe tbody tr th {\n",
              "        vertical-align: top;\n",
              "    }\n",
              "\n",
              "    .dataframe thead th {\n",
              "        text-align: right;\n",
              "    }\n",
              "</style>\n",
              "<table border=\"1\" class=\"dataframe\">\n",
              "  <thead>\n",
              "    <tr style=\"text-align: right;\">\n",
              "      <th></th>\n",
              "      <th>스타워즈</th>\n",
              "      <th>아바타</th>\n",
              "      <th>혹성탈출</th>\n",
              "      <th>사랑과영혼</th>\n",
              "      <th>타이타닉</th>\n",
              "    </tr>\n",
              "  </thead>\n",
              "  <tbody>\n",
              "    <tr>\n",
              "      <th>User01</th>\n",
              "      <td>1</td>\n",
              "      <td>1</td>\n",
              "      <td>1</td>\n",
              "      <td>0</td>\n",
              "      <td>0</td>\n",
              "    </tr>\n",
              "    <tr>\n",
              "      <th>User02</th>\n",
              "      <td>3</td>\n",
              "      <td>3</td>\n",
              "      <td>3</td>\n",
              "      <td>0</td>\n",
              "      <td>0</td>\n",
              "    </tr>\n",
              "    <tr>\n",
              "      <th>User03</th>\n",
              "      <td>4</td>\n",
              "      <td>4</td>\n",
              "      <td>4</td>\n",
              "      <td>0</td>\n",
              "      <td>0</td>\n",
              "    </tr>\n",
              "    <tr>\n",
              "      <th>User04</th>\n",
              "      <td>5</td>\n",
              "      <td>5</td>\n",
              "      <td>5</td>\n",
              "      <td>0</td>\n",
              "      <td>0</td>\n",
              "    </tr>\n",
              "    <tr>\n",
              "      <th>User05</th>\n",
              "      <td>0</td>\n",
              "      <td>0</td>\n",
              "      <td>0</td>\n",
              "      <td>4</td>\n",
              "      <td>4</td>\n",
              "    </tr>\n",
              "    <tr>\n",
              "      <th>User06</th>\n",
              "      <td>0</td>\n",
              "      <td>0</td>\n",
              "      <td>0</td>\n",
              "      <td>5</td>\n",
              "      <td>5</td>\n",
              "    </tr>\n",
              "    <tr>\n",
              "      <th>User07</th>\n",
              "      <td>0</td>\n",
              "      <td>1</td>\n",
              "      <td>0</td>\n",
              "      <td>2</td>\n",
              "      <td>2</td>\n",
              "    </tr>\n",
              "    <tr>\n",
              "      <th>User08</th>\n",
              "      <td>4</td>\n",
              "      <td>3</td>\n",
              "      <td>3</td>\n",
              "      <td>3</td>\n",
              "      <td>2</td>\n",
              "    </tr>\n",
              "  </tbody>\n",
              "</table>\n",
              "</div>"
            ],
            "text/plain": [
              "        스타워즈  아바타  혹성탈출  사랑과영혼  타이타닉\n",
              "User01     1    1     1      0     0\n",
              "User02     3    3     3      0     0\n",
              "User03     4    4     4      0     0\n",
              "User04     5    5     5      0     0\n",
              "User05     0    0     0      4     4\n",
              "User06     0    0     0      5     5\n",
              "User07     0    1     0      2     2\n",
              "User08     4    3     3      3     2"
            ]
          },
          "metadata": {
            "tags": []
          },
          "execution_count": 50
        }
      ]
    },
    {
      "cell_type": "code",
      "metadata": {
        "id": "6Cn22j4UEIsU",
        "colab_type": "code",
        "colab": {}
      },
      "source": [
        "uuu, sss, vvv = np.linalg.svd(df3, full_matrices=False)"
      ],
      "execution_count": 0,
      "outputs": []
    },
    {
      "cell_type": "code",
      "metadata": {
        "id": "9TZVn1W1Eowf",
        "colab_type": "code",
        "outputId": "3968f6d4-a16e-4d87-e005-3b7b5423d5ea",
        "colab": {
          "base_uri": "https://localhost:8080/",
          "height": 297
        }
      },
      "source": [
        "pd.DataFrame(uuu)"
      ],
      "execution_count": 0,
      "outputs": [
        {
          "output_type": "execute_result",
          "data": {
            "text/html": [
              "<div>\n",
              "<style scoped>\n",
              "    .dataframe tbody tr th:only-of-type {\n",
              "        vertical-align: middle;\n",
              "    }\n",
              "\n",
              "    .dataframe tbody tr th {\n",
              "        vertical-align: top;\n",
              "    }\n",
              "\n",
              "    .dataframe thead th {\n",
              "        text-align: right;\n",
              "    }\n",
              "</style>\n",
              "<table border=\"1\" class=\"dataframe\">\n",
              "  <thead>\n",
              "    <tr style=\"text-align: right;\">\n",
              "      <th></th>\n",
              "      <th>0</th>\n",
              "      <th>1</th>\n",
              "      <th>2</th>\n",
              "      <th>3</th>\n",
              "      <th>4</th>\n",
              "    </tr>\n",
              "  </thead>\n",
              "  <tbody>\n",
              "    <tr>\n",
              "      <th>0</th>\n",
              "      <td>-0.121186</td>\n",
              "      <td>0.042185</td>\n",
              "      <td>-0.043852</td>\n",
              "      <td>-0.034919</td>\n",
              "      <td>-9.651042e-01</td>\n",
              "    </tr>\n",
              "    <tr>\n",
              "      <th>1</th>\n",
              "      <td>-0.363557</td>\n",
              "      <td>0.126555</td>\n",
              "      <td>-0.131555</td>\n",
              "      <td>-0.104757</td>\n",
              "      <td>2.248264e-01</td>\n",
              "    </tr>\n",
              "    <tr>\n",
              "      <th>2</th>\n",
              "      <td>-0.484743</td>\n",
              "      <td>0.168740</td>\n",
              "      <td>-0.175406</td>\n",
              "      <td>-0.139676</td>\n",
              "      <td>2.127101e-02</td>\n",
              "    </tr>\n",
              "    <tr>\n",
              "      <th>3</th>\n",
              "      <td>-0.605929</td>\n",
              "      <td>0.210925</td>\n",
              "      <td>-0.219258</td>\n",
              "      <td>-0.174595</td>\n",
              "      <td>4.110819e-02</td>\n",
              "    </tr>\n",
              "    <tr>\n",
              "      <th>4</th>\n",
              "      <td>-0.097648</td>\n",
              "      <td>-0.556997</td>\n",
              "      <td>-0.060082</td>\n",
              "      <td>-0.258561</td>\n",
              "      <td>9.841629e-02</td>\n",
              "    </tr>\n",
              "    <tr>\n",
              "      <th>5</th>\n",
              "      <td>-0.122060</td>\n",
              "      <td>-0.696246</td>\n",
              "      <td>-0.075102</td>\n",
              "      <td>-0.323201</td>\n",
              "      <td>-7.873303e-02</td>\n",
              "    </tr>\n",
              "    <tr>\n",
              "      <th>6</th>\n",
              "      <td>-0.088716</td>\n",
              "      <td>-0.265542</td>\n",
              "      <td>-0.604287</td>\n",
              "      <td>0.745958</td>\n",
              "      <td>2.220446e-16</td>\n",
              "    </tr>\n",
              "    <tr>\n",
              "      <th>7</th>\n",
              "      <td>-0.467665</td>\n",
              "      <td>-0.209107</td>\n",
              "      <td>0.726303</td>\n",
              "      <td>0.458309</td>\n",
              "      <td>-1.665335e-16</td>\n",
              "    </tr>\n",
              "  </tbody>\n",
              "</table>\n",
              "</div>"
            ],
            "text/plain": [
              "          0         1         2         3             4\n",
              "0 -0.121186  0.042185 -0.043852 -0.034919 -9.651042e-01\n",
              "1 -0.363557  0.126555 -0.131555 -0.104757  2.248264e-01\n",
              "2 -0.484743  0.168740 -0.175406 -0.139676  2.127101e-02\n",
              "3 -0.605929  0.210925 -0.219258 -0.174595  4.110819e-02\n",
              "4 -0.097648 -0.556997 -0.060082 -0.258561  9.841629e-02\n",
              "5 -0.122060 -0.696246 -0.075102 -0.323201 -7.873303e-02\n",
              "6 -0.088716 -0.265542 -0.604287  0.745958  2.220446e-16\n",
              "7 -0.467665 -0.209107  0.726303  0.458309 -1.665335e-16"
            ]
          },
          "metadata": {
            "tags": []
          },
          "execution_count": 53
        }
      ]
    },
    {
      "cell_type": "code",
      "metadata": {
        "id": "SMh6KJNhFchc",
        "colab_type": "code",
        "colab": {}
      },
      "source": [
        ""
      ],
      "execution_count": 0,
      "outputs": []
    },
    {
      "cell_type": "code",
      "metadata": {
        "id": "PoCNakNwEqQ6",
        "colab_type": "code",
        "outputId": "028af6d7-d28c-48f9-a6b7-b31032fa5340",
        "colab": {
          "base_uri": "https://localhost:8080/",
          "height": 125
        }
      },
      "source": [
        "print(pd.DataFrame(np.diag(sss)))"
      ],
      "execution_count": 0,
      "outputs": [
        {
          "output_type": "stream",
          "text": [
            "           0         1         2         3             4\n",
            "0  13.868052  0.000000  0.000000  0.000000  0.000000e+00\n",
            "1   0.000000  9.855769  0.000000  0.000000  0.000000e+00\n",
            "2   0.000000  0.000000  1.073534  0.000000  0.000000e+00\n",
            "3   0.000000  0.000000  0.000000  0.623283  0.000000e+00\n",
            "4   0.000000  0.000000  0.000000  0.000000  6.919055e-16\n"
          ],
          "name": "stdout"
        }
      ]
    },
    {
      "cell_type": "code",
      "metadata": {
        "id": "Dd3jG_7tE64n",
        "colab_type": "code",
        "outputId": "0339d75c-2eda-4ad3-f592-a058418b5da1",
        "colab": {
          "base_uri": "https://localhost:8080/",
          "height": 204
        }
      },
      "source": [
        "pd.DataFrame(vvv)"
      ],
      "execution_count": 0,
      "outputs": [
        {
          "output_type": "execute_result",
          "data": {
            "text/html": [
              "<div>\n",
              "<style scoped>\n",
              "    .dataframe tbody tr th:only-of-type {\n",
              "        vertical-align: middle;\n",
              "    }\n",
              "\n",
              "    .dataframe tbody tr th {\n",
              "        vertical-align: top;\n",
              "    }\n",
              "\n",
              "    .dataframe thead th {\n",
              "        text-align: right;\n",
              "    }\n",
              "</style>\n",
              "<table border=\"1\" class=\"dataframe\">\n",
              "  <thead>\n",
              "    <tr style=\"text-align: right;\">\n",
              "      <th></th>\n",
              "      <th>0</th>\n",
              "      <th>1</th>\n",
              "      <th>2</th>\n",
              "      <th>3</th>\n",
              "      <th>4</th>\n",
              "    </tr>\n",
              "  </thead>\n",
              "  <tbody>\n",
              "    <tr>\n",
              "      <th>0</th>\n",
              "      <td>-0.580553</td>\n",
              "      <td>-5.532272e-01</td>\n",
              "      <td>-0.546830</td>\n",
              "      <td>-0.186134</td>\n",
              "      <td>-0.152412</td>\n",
              "    </tr>\n",
              "    <tr>\n",
              "      <th>1</th>\n",
              "      <td>0.133425</td>\n",
              "      <td>1.276987e-01</td>\n",
              "      <td>0.154641</td>\n",
              "      <td>-0.696812</td>\n",
              "      <td>-0.675596</td>\n",
              "    </tr>\n",
              "    <tr>\n",
              "      <th>2</th>\n",
              "      <td>0.622975</td>\n",
              "      <td>-6.164733e-01</td>\n",
              "      <td>-0.053578</td>\n",
              "      <td>0.330214</td>\n",
              "      <td>-0.346339</td>\n",
              "    </tr>\n",
              "    <tr>\n",
              "      <th>3</th>\n",
              "      <td>0.084015</td>\n",
              "      <td>5.455212e-01</td>\n",
              "      <td>-0.651300</td>\n",
              "      <td>0.347513</td>\n",
              "      <td>-0.387802</td>\n",
              "    </tr>\n",
              "    <tr>\n",
              "      <th>4</th>\n",
              "      <td>0.500000</td>\n",
              "      <td>-2.775558e-16</td>\n",
              "      <td>-0.500000</td>\n",
              "      <td>-0.500000</td>\n",
              "      <td>0.500000</td>\n",
              "    </tr>\n",
              "  </tbody>\n",
              "</table>\n",
              "</div>"
            ],
            "text/plain": [
              "          0             1         2         3         4\n",
              "0 -0.580553 -5.532272e-01 -0.546830 -0.186134 -0.152412\n",
              "1  0.133425  1.276987e-01  0.154641 -0.696812 -0.675596\n",
              "2  0.622975 -6.164733e-01 -0.053578  0.330214 -0.346339\n",
              "3  0.084015  5.455212e-01 -0.651300  0.347513 -0.387802\n",
              "4  0.500000 -2.775558e-16 -0.500000 -0.500000  0.500000"
            ]
          },
          "metadata": {
            "tags": []
          },
          "execution_count": 56
        }
      ]
    },
    {
      "cell_type": "code",
      "metadata": {
        "id": "Y9HS4klIF5Bt",
        "colab_type": "code",
        "outputId": "62dd91bc-9040-40c0-86b4-76db5dd68360",
        "colab": {
          "base_uri": "https://localhost:8080/",
          "height": 297
        }
      },
      "source": [
        "# 모든 대각 행렬 사용 시\n",
        "pd.DataFrame(np.matmul(np.matmul(uuu, np.diag(sss)),vvv)).round(1)"
      ],
      "execution_count": 0,
      "outputs": [
        {
          "output_type": "execute_result",
          "data": {
            "text/html": [
              "<div>\n",
              "<style scoped>\n",
              "    .dataframe tbody tr th:only-of-type {\n",
              "        vertical-align: middle;\n",
              "    }\n",
              "\n",
              "    .dataframe tbody tr th {\n",
              "        vertical-align: top;\n",
              "    }\n",
              "\n",
              "    .dataframe thead th {\n",
              "        text-align: right;\n",
              "    }\n",
              "</style>\n",
              "<table border=\"1\" class=\"dataframe\">\n",
              "  <thead>\n",
              "    <tr style=\"text-align: right;\">\n",
              "      <th></th>\n",
              "      <th>0</th>\n",
              "      <th>1</th>\n",
              "      <th>2</th>\n",
              "      <th>3</th>\n",
              "      <th>4</th>\n",
              "    </tr>\n",
              "  </thead>\n",
              "  <tbody>\n",
              "    <tr>\n",
              "      <th>0</th>\n",
              "      <td>1.0</td>\n",
              "      <td>1.0</td>\n",
              "      <td>1.0</td>\n",
              "      <td>-0.0</td>\n",
              "      <td>-0.0</td>\n",
              "    </tr>\n",
              "    <tr>\n",
              "      <th>1</th>\n",
              "      <td>3.0</td>\n",
              "      <td>3.0</td>\n",
              "      <td>3.0</td>\n",
              "      <td>-0.0</td>\n",
              "      <td>-0.0</td>\n",
              "    </tr>\n",
              "    <tr>\n",
              "      <th>2</th>\n",
              "      <td>4.0</td>\n",
              "      <td>4.0</td>\n",
              "      <td>4.0</td>\n",
              "      <td>-0.0</td>\n",
              "      <td>-0.0</td>\n",
              "    </tr>\n",
              "    <tr>\n",
              "      <th>3</th>\n",
              "      <td>5.0</td>\n",
              "      <td>5.0</td>\n",
              "      <td>5.0</td>\n",
              "      <td>-0.0</td>\n",
              "      <td>-0.0</td>\n",
              "    </tr>\n",
              "    <tr>\n",
              "      <th>4</th>\n",
              "      <td>-0.0</td>\n",
              "      <td>-0.0</td>\n",
              "      <td>-0.0</td>\n",
              "      <td>4.0</td>\n",
              "      <td>4.0</td>\n",
              "    </tr>\n",
              "    <tr>\n",
              "      <th>5</th>\n",
              "      <td>-0.0</td>\n",
              "      <td>-0.0</td>\n",
              "      <td>-0.0</td>\n",
              "      <td>5.0</td>\n",
              "      <td>5.0</td>\n",
              "    </tr>\n",
              "    <tr>\n",
              "      <th>6</th>\n",
              "      <td>-0.0</td>\n",
              "      <td>1.0</td>\n",
              "      <td>0.0</td>\n",
              "      <td>2.0</td>\n",
              "      <td>2.0</td>\n",
              "    </tr>\n",
              "    <tr>\n",
              "      <th>7</th>\n",
              "      <td>4.0</td>\n",
              "      <td>3.0</td>\n",
              "      <td>3.0</td>\n",
              "      <td>3.0</td>\n",
              "      <td>2.0</td>\n",
              "    </tr>\n",
              "  </tbody>\n",
              "</table>\n",
              "</div>"
            ],
            "text/plain": [
              "     0    1    2    3    4\n",
              "0  1.0  1.0  1.0 -0.0 -0.0\n",
              "1  3.0  3.0  3.0 -0.0 -0.0\n",
              "2  4.0  4.0  4.0 -0.0 -0.0\n",
              "3  5.0  5.0  5.0 -0.0 -0.0\n",
              "4 -0.0 -0.0 -0.0  4.0  4.0\n",
              "5 -0.0 -0.0 -0.0  5.0  5.0\n",
              "6 -0.0  1.0  0.0  2.0  2.0\n",
              "7  4.0  3.0  3.0  3.0  2.0"
            ]
          },
          "metadata": {
            "tags": []
          },
          "execution_count": 63
        }
      ]
    },
    {
      "cell_type": "code",
      "metadata": {
        "id": "x2p9XY_eF9iA",
        "colab_type": "code",
        "outputId": "6c7652e4-98ed-4db1-def3-a0109742862c",
        "colab": {
          "base_uri": "https://localhost:8080/",
          "height": 297
        }
      },
      "source": [
        "# 모든 대각 행렬 사용 시\n",
        "pd.DataFrame(np.matmul(np.matmul(uuu[:,:2], \n",
        "np.diag(sss[0:2])),vvv[:2,:])).round(1)"
      ],
      "execution_count": 0,
      "outputs": [
        {
          "output_type": "execute_result",
          "data": {
            "text/html": [
              "<div>\n",
              "<style scoped>\n",
              "    .dataframe tbody tr th:only-of-type {\n",
              "        vertical-align: middle;\n",
              "    }\n",
              "\n",
              "    .dataframe tbody tr th {\n",
              "        vertical-align: top;\n",
              "    }\n",
              "\n",
              "    .dataframe thead th {\n",
              "        text-align: right;\n",
              "    }\n",
              "</style>\n",
              "<table border=\"1\" class=\"dataframe\">\n",
              "  <thead>\n",
              "    <tr style=\"text-align: right;\">\n",
              "      <th></th>\n",
              "      <th>0</th>\n",
              "      <th>1</th>\n",
              "      <th>2</th>\n",
              "      <th>3</th>\n",
              "      <th>4</th>\n",
              "    </tr>\n",
              "  </thead>\n",
              "  <tbody>\n",
              "    <tr>\n",
              "      <th>0</th>\n",
              "      <td>1.0</td>\n",
              "      <td>1.0</td>\n",
              "      <td>1.0</td>\n",
              "      <td>0.0</td>\n",
              "      <td>-0.0</td>\n",
              "    </tr>\n",
              "    <tr>\n",
              "      <th>1</th>\n",
              "      <td>3.1</td>\n",
              "      <td>2.9</td>\n",
              "      <td>2.9</td>\n",
              "      <td>0.1</td>\n",
              "      <td>-0.1</td>\n",
              "    </tr>\n",
              "    <tr>\n",
              "      <th>2</th>\n",
              "      <td>4.1</td>\n",
              "      <td>3.9</td>\n",
              "      <td>3.9</td>\n",
              "      <td>0.1</td>\n",
              "      <td>-0.1</td>\n",
              "    </tr>\n",
              "    <tr>\n",
              "      <th>3</th>\n",
              "      <td>5.2</td>\n",
              "      <td>4.9</td>\n",
              "      <td>4.9</td>\n",
              "      <td>0.1</td>\n",
              "      <td>-0.1</td>\n",
              "    </tr>\n",
              "    <tr>\n",
              "      <th>4</th>\n",
              "      <td>0.1</td>\n",
              "      <td>0.0</td>\n",
              "      <td>-0.1</td>\n",
              "      <td>4.1</td>\n",
              "      <td>3.9</td>\n",
              "    </tr>\n",
              "    <tr>\n",
              "      <th>5</th>\n",
              "      <td>0.1</td>\n",
              "      <td>0.1</td>\n",
              "      <td>-0.1</td>\n",
              "      <td>5.1</td>\n",
              "      <td>4.9</td>\n",
              "    </tr>\n",
              "    <tr>\n",
              "      <th>6</th>\n",
              "      <td>0.4</td>\n",
              "      <td>0.3</td>\n",
              "      <td>0.3</td>\n",
              "      <td>2.1</td>\n",
              "      <td>2.0</td>\n",
              "    </tr>\n",
              "    <tr>\n",
              "      <th>7</th>\n",
              "      <td>3.5</td>\n",
              "      <td>3.3</td>\n",
              "      <td>3.2</td>\n",
              "      <td>2.6</td>\n",
              "      <td>2.4</td>\n",
              "    </tr>\n",
              "  </tbody>\n",
              "</table>\n",
              "</div>"
            ],
            "text/plain": [
              "     0    1    2    3    4\n",
              "0  1.0  1.0  1.0  0.0 -0.0\n",
              "1  3.1  2.9  2.9  0.1 -0.1\n",
              "2  4.1  3.9  3.9  0.1 -0.1\n",
              "3  5.2  4.9  4.9  0.1 -0.1\n",
              "4  0.1  0.0 -0.1  4.1  3.9\n",
              "5  0.1  0.1 -0.1  5.1  4.9\n",
              "6  0.4  0.3  0.3  2.1  2.0\n",
              "7  3.5  3.3  3.2  2.6  2.4"
            ]
          },
          "metadata": {
            "tags": []
          },
          "execution_count": 65
        }
      ]
    },
    {
      "cell_type": "code",
      "metadata": {
        "id": "eM4Nn9FdGw0B",
        "colab_type": "code",
        "colab": {}
      },
      "source": [
        ""
      ],
      "execution_count": 0,
      "outputs": []
    }
  ]
}