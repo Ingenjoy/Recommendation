{
  "nbformat": 4,
  "nbformat_minor": 0,
  "metadata": {
    "colab": {
      "name": "DAY01-01 Similarity",
      "provenance": [],
      "include_colab_link": true
    },
    "kernelspec": {
      "name": "python3",
      "display_name": "Python 3"
    }
  },
  "cells": [
    {
      "cell_type": "markdown",
      "metadata": {
        "id": "view-in-github",
        "colab_type": "text"
      },
      "source": [
        "<a href=\"https://colab.research.google.com/github/Ingenjoy/Recommendation/blob/master/Day1/DAY01_01_Similarity.ipynb\" target=\"_parent\"><img src=\"https://colab.research.google.com/assets/colab-badge.svg\" alt=\"Open In Colab\"/></a>"
      ]
    },
    {
      "cell_type": "markdown",
      "metadata": {
        "id": "XrHhkvGTMveP",
        "colab_type": "text"
      },
      "source": [
        "# **파이썬 실습 - 유클리디안 거리**"
      ]
    },
    {
      "cell_type": "markdown",
      "metadata": {
        "id": "Vvjx9p1jFaGX",
        "colab_type": "text"
      },
      "source": [
        " 1) scipy 모듈 사용 시"
      ]
    },
    {
      "cell_type": "code",
      "metadata": {
        "id": "MV-7bOZFFqCa",
        "colab_type": "code",
        "outputId": "10215da9-b027-4d3c-b881-6264d2aecb63",
        "colab": {
          "base_uri": "https://localhost:8080/",
          "height": 70
        }
      },
      "source": [
        "from scipy.spatial import distance\n",
        "D1 = (3,2,0,2)\n",
        "D2 = (1,2,3,0)\n",
        "D3 = (2,2,2,2)\n",
        "Q = (1,5,0,0)\n",
        "\n",
        "dist_D1_Q = distance.euclidean(D1,Q)\n",
        "dist_D2_Q = distance.euclidean(D2,Q)\n",
        "dist_D3_Q = distance.euclidean(D3,Q)\n",
        "\n",
        "print(\"D1-Q : \" + str(dist_D1_Q))\n",
        "print(\"D2-Q : \" + str(dist_D2_Q))\n",
        "print(\"D3-Q : \" + str(dist_D3_Q))\n"
      ],
      "execution_count": 0,
      "outputs": [
        {
          "output_type": "stream",
          "text": [
            "D1-Q : 4.123105625617661\n",
            "D2-Q : 4.242640687119285\n",
            "D3-Q : 4.242640687119285\n"
          ],
          "name": "stdout"
        }
      ]
    },
    {
      "cell_type": "markdown",
      "metadata": {
        "id": "6GJU-rGlNh5i",
        "colab_type": "text"
      },
      "source": [
        "2) numpy 모듈 사용 시"
      ]
    },
    {
      "cell_type": "code",
      "metadata": {
        "id": "vNnvvWBzGEXx",
        "colab_type": "code",
        "outputId": "5322dccc-794a-457a-f8f2-ab1d1019aff3",
        "colab": {
          "base_uri": "https://localhost:8080/",
          "height": 71
        }
      },
      "source": [
        "import numpy as np\n",
        "def dist(x, y):\n",
        "  return np.sqrt(np.sum((x-y)**2))\n",
        "\n",
        "D1 = np.array((3,2,0,2))\n",
        "D2 = np.array((1,2,3,0))\n",
        "D3 = np.array((2,2,2,2))\n",
        "Q = np.array((1,5,0,0))\n",
        "\n",
        "\n",
        "dist_D1_Q = dist(D1,Q)\n",
        "dist_D2_Q = dist(D2,Q)\n",
        "dist_D3_Q = dist(D3,Q)\n",
        "\n",
        "print(\"D1-Q : \" + str(dist_D1_Q))\n",
        "print(\"D2-Q : \" + str(dist_D2_Q))\n",
        "print(\"D3-Q : \" + str(dist_D3_Q))\n"
      ],
      "execution_count": 0,
      "outputs": [
        {
          "output_type": "stream",
          "text": [
            "D1-Q : 4.123105625617661\n",
            "D2-Q : 4.242640687119285\n",
            "D3-Q : 4.242640687119285\n"
          ],
          "name": "stdout"
        }
      ]
    },
    {
      "cell_type": "markdown",
      "metadata": {
        "id": "MJh5X5LEOHf4",
        "colab_type": "text"
      },
      "source": [
        "# **파이썬 실습 - 피어슨 상관계수**"
      ]
    },
    {
      "cell_type": "markdown",
      "metadata": {
        "id": "72N5iDusOPa5",
        "colab_type": "text"
      },
      "source": [
        "1) 문제 1"
      ]
    },
    {
      "cell_type": "code",
      "metadata": {
        "id": "L7b0XGRmOQAu",
        "colab_type": "code",
        "colab": {}
      },
      "source": [
        "import pandas as pd\n",
        "\n",
        "data_dict = {'지각': [1, 2, 3, 4, 5],\n",
        "'판매수': [8, 7, 6, 4, 5]}\n",
        "df = pd.DataFrame(data_dict)\n"
      ],
      "execution_count": 0,
      "outputs": []
    },
    {
      "cell_type": "code",
      "metadata": {
        "id": "44D2iGIaOYu3",
        "colab_type": "code",
        "outputId": "9025627c-f395-4b78-966b-8757f55da694",
        "colab": {
          "base_uri": "https://localhost:8080/",
          "height": 204
        }
      },
      "source": [
        "df"
      ],
      "execution_count": 0,
      "outputs": [
        {
          "output_type": "execute_result",
          "data": {
            "text/html": [
              "<div>\n",
              "<style scoped>\n",
              "    .dataframe tbody tr th:only-of-type {\n",
              "        vertical-align: middle;\n",
              "    }\n",
              "\n",
              "    .dataframe tbody tr th {\n",
              "        vertical-align: top;\n",
              "    }\n",
              "\n",
              "    .dataframe thead th {\n",
              "        text-align: right;\n",
              "    }\n",
              "</style>\n",
              "<table border=\"1\" class=\"dataframe\">\n",
              "  <thead>\n",
              "    <tr style=\"text-align: right;\">\n",
              "      <th></th>\n",
              "      <th>지각</th>\n",
              "      <th>판매수</th>\n",
              "    </tr>\n",
              "  </thead>\n",
              "  <tbody>\n",
              "    <tr>\n",
              "      <th>0</th>\n",
              "      <td>1</td>\n",
              "      <td>8</td>\n",
              "    </tr>\n",
              "    <tr>\n",
              "      <th>1</th>\n",
              "      <td>2</td>\n",
              "      <td>7</td>\n",
              "    </tr>\n",
              "    <tr>\n",
              "      <th>2</th>\n",
              "      <td>3</td>\n",
              "      <td>6</td>\n",
              "    </tr>\n",
              "    <tr>\n",
              "      <th>3</th>\n",
              "      <td>4</td>\n",
              "      <td>4</td>\n",
              "    </tr>\n",
              "    <tr>\n",
              "      <th>4</th>\n",
              "      <td>5</td>\n",
              "      <td>5</td>\n",
              "    </tr>\n",
              "  </tbody>\n",
              "</table>\n",
              "</div>"
            ],
            "text/plain": [
              "   지각  판매수\n",
              "0   1    8\n",
              "1   2    7\n",
              "2   3    6\n",
              "3   4    4\n",
              "4   5    5"
            ]
          },
          "metadata": {
            "tags": []
          },
          "execution_count": 4
        }
      ]
    },
    {
      "cell_type": "code",
      "metadata": {
        "id": "rVszd9KMObA_",
        "colab_type": "code",
        "outputId": "75a07d62-597e-4af3-a2d7-c039e8f38386",
        "colab": {
          "base_uri": "https://localhost:8080/",
          "height": 71
        }
      },
      "source": [
        "re = df.corr(method = 'pearson')\n",
        "print(re)\n"
      ],
      "execution_count": 0,
      "outputs": [
        {
          "output_type": "stream",
          "text": [
            "      지각  판매수\n",
            "지각   1.0 -0.9\n",
            "판매수 -0.9  1.0\n"
          ],
          "name": "stdout"
        }
      ]
    },
    {
      "cell_type": "markdown",
      "metadata": {
        "id": "xhypXigXOjdh",
        "colab_type": "text"
      },
      "source": [
        "2) 문제 2"
      ]
    },
    {
      "cell_type": "code",
      "metadata": {
        "id": "UdBFaC6AOm_R",
        "colab_type": "code",
        "colab": {}
      },
      "source": [
        "import pandas as pd\n",
        "\n",
        "data_dict = {'교육받은 횟수': [1, 3, 5, 7],\n",
        "             '생산량': [35, 45, 35, 45]}\n",
        "df = pd.DataFrame(data_dict)"
      ],
      "execution_count": 0,
      "outputs": []
    },
    {
      "cell_type": "code",
      "metadata": {
        "id": "GCXPbGVwOpP3",
        "colab_type": "code",
        "outputId": "02567820-668b-468b-959b-85366728d592",
        "colab": {
          "base_uri": "https://localhost:8080/",
          "height": 173
        }
      },
      "source": [
        "df"
      ],
      "execution_count": 0,
      "outputs": [
        {
          "output_type": "execute_result",
          "data": {
            "text/html": [
              "<div>\n",
              "<style scoped>\n",
              "    .dataframe tbody tr th:only-of-type {\n",
              "        vertical-align: middle;\n",
              "    }\n",
              "\n",
              "    .dataframe tbody tr th {\n",
              "        vertical-align: top;\n",
              "    }\n",
              "\n",
              "    .dataframe thead th {\n",
              "        text-align: right;\n",
              "    }\n",
              "</style>\n",
              "<table border=\"1\" class=\"dataframe\">\n",
              "  <thead>\n",
              "    <tr style=\"text-align: right;\">\n",
              "      <th></th>\n",
              "      <th>교육받은 횟수</th>\n",
              "      <th>생산량</th>\n",
              "    </tr>\n",
              "  </thead>\n",
              "  <tbody>\n",
              "    <tr>\n",
              "      <th>0</th>\n",
              "      <td>1</td>\n",
              "      <td>35</td>\n",
              "    </tr>\n",
              "    <tr>\n",
              "      <th>1</th>\n",
              "      <td>3</td>\n",
              "      <td>45</td>\n",
              "    </tr>\n",
              "    <tr>\n",
              "      <th>2</th>\n",
              "      <td>5</td>\n",
              "      <td>35</td>\n",
              "    </tr>\n",
              "    <tr>\n",
              "      <th>3</th>\n",
              "      <td>7</td>\n",
              "      <td>45</td>\n",
              "    </tr>\n",
              "  </tbody>\n",
              "</table>\n",
              "</div>"
            ],
            "text/plain": [
              "   교육받은 횟수  생산량\n",
              "0        1   35\n",
              "1        3   45\n",
              "2        5   35\n",
              "3        7   45"
            ]
          },
          "metadata": {
            "tags": []
          },
          "execution_count": 7
        }
      ]
    },
    {
      "cell_type": "code",
      "metadata": {
        "id": "G5OyhLHmOqus",
        "colab_type": "code",
        "outputId": "087280fe-ece9-48f8-bb9d-af251cfeb82e",
        "colab": {
          "base_uri": "https://localhost:8080/",
          "height": 71
        }
      },
      "source": [
        "re = df.corr(method = 'pearson')\n",
        "print(re)"
      ],
      "execution_count": 0,
      "outputs": [
        {
          "output_type": "stream",
          "text": [
            "          교육받은 횟수       생산량\n",
            "교육받은 횟수  1.000000  0.447214\n",
            "생산량      0.447214  1.000000\n"
          ],
          "name": "stdout"
        }
      ]
    },
    {
      "cell_type": "markdown",
      "metadata": {
        "id": "ur0XH87qXOda",
        "colab_type": "text"
      },
      "source": [
        "# **cosine simiarity**"
      ]
    },
    {
      "cell_type": "markdown",
      "metadata": {
        "id": "ZCMsLP_3O6UZ",
        "colab_type": "text"
      },
      "source": [
        "1) 방법 1"
      ]
    },
    {
      "cell_type": "code",
      "metadata": {
        "id": "o4qbTCB-XQ8s",
        "colab_type": "code",
        "outputId": "d0680101-4ce6-48dc-960b-d2e9a83ae648",
        "colab": {
          "base_uri": "https://localhost:8080/",
          "height": 35
        }
      },
      "source": [
        "from scipy import spatial\n",
        "\n",
        "dataSet1 = [1, 2, 3, 4, 5]\n",
        "dataSet2 = [6, 7, 8, 9, 10]\n",
        "\n",
        "result = 1 - spatial.distance.cosine(dataSet1, dataSet2)\n",
        "\n",
        "print(result)"
      ],
      "execution_count": 0,
      "outputs": [
        {
          "output_type": "stream",
          "text": [
            "0.9649505047327671\n"
          ],
          "name": "stdout"
        }
      ]
    },
    {
      "cell_type": "markdown",
      "metadata": {
        "id": "XVGuINNUO_pW",
        "colab_type": "text"
      },
      "source": [
        "2) 방법 2"
      ]
    },
    {
      "cell_type": "code",
      "metadata": {
        "id": "7HlMo9OvXexU",
        "colab_type": "code",
        "outputId": "011d9346-7e7d-434b-ff78-5a8c72fe9130",
        "colab": {
          "base_uri": "https://localhost:8080/",
          "height": 35
        }
      },
      "source": [
        "from sklearn.metrics.pairwise import cosine_similarity\n",
        "cosine_similarity([[1,2,3,4,5]], [[6,7,8,9,10]])"
      ],
      "execution_count": 0,
      "outputs": [
        {
          "output_type": "execute_result",
          "data": {
            "text/plain": [
              "array([[0.9649505]])"
            ]
          },
          "metadata": {
            "tags": []
          },
          "execution_count": 12
        }
      ]
    },
    {
      "cell_type": "markdown",
      "metadata": {
        "id": "0M0dfczpPEsQ",
        "colab_type": "text"
      },
      "source": [
        "3) 방법3"
      ]
    },
    {
      "cell_type": "code",
      "metadata": {
        "id": "e11pY_M-ZFWq",
        "colab_type": "code",
        "outputId": "9c86e995-9a72-470c-fda9-98757a26b4d4",
        "colab": {
          "base_uri": "https://localhost:8080/",
          "height": 35
        }
      },
      "source": [
        "import math\n",
        "def cosine_similarity(v1, v2):\n",
        "  sumxx, sumxy, sumyy = 0,0,0\n",
        "  for i in range(len(v1)):\n",
        "    x = v1[i]\n",
        "    y = v2[i]\n",
        "    sumxx += x*x\n",
        "    sumyy += y*y\n",
        "    sumxy += x*y\n",
        "    return sumxy / math.sqrt(sumxx * sumyy)\n",
        "  \n",
        "v1, v2 = [1,2,3,4,5],[6,7,8,9,10]\n",
        "\n",
        "print(v1, v2, cosine_similarity(v1, v2))\n",
        "    "
      ],
      "execution_count": 0,
      "outputs": [
        {
          "output_type": "stream",
          "text": [
            "([1, 2, 3, 4, 5], [6, 7, 8, 9, 10], 1.0)\n"
          ],
          "name": "stdout"
        }
      ]
    },
    {
      "cell_type": "markdown",
      "metadata": {
        "id": "nK7ipxLHPG6t",
        "colab_type": "text"
      },
      "source": [
        "4) 방법4"
      ]
    },
    {
      "cell_type": "code",
      "metadata": {
        "id": "oRTkwwmPZ-Xz",
        "colab_type": "code",
        "outputId": "cdfea376-22b9-4dd2-9059-c30253b3befc",
        "colab": {
          "base_uri": "https://localhost:8080/",
          "height": 35
        }
      },
      "source": [
        "from numpy import dot\n",
        "from numpy.linalg import norm\n",
        "a, b = [1,2,3,4,5],[6,7,8,9,10]\n",
        "cosine_sim = dot(a,b) / (norm(a) * norm(b))\n",
        "print(cosine_sim)"
      ],
      "execution_count": 0,
      "outputs": [
        {
          "output_type": "stream",
          "text": [
            "0.9649505047327671\n"
          ],
          "name": "stdout"
        }
      ]
    },
    {
      "cell_type": "markdown",
      "metadata": {
        "id": "Vw36ZkCDShQm",
        "colab_type": "text"
      },
      "source": [
        "# **Jaccard similarity**"
      ]
    },
    {
      "cell_type": "markdown",
      "metadata": {
        "id": "3FdsQraQQC8B",
        "colab_type": "text"
      },
      "source": [
        "1) 방법 1"
      ]
    },
    {
      "cell_type": "code",
      "metadata": {
        "id": "88M4RAOSSkDI",
        "colab_type": "code",
        "outputId": "a19f19fd-1030-499c-9153-462744290998",
        "colab": {
          "base_uri": "https://localhost:8080/",
          "height": 35
        }
      },
      "source": [
        "# 방법 1\n",
        "import numpy as np\n",
        "from sklearn.metrics import jaccard_score\n",
        "\n",
        "Person_A = [1, 0, 1, 1, 1, 0, 1, 1]\n",
        "Person_B = [0, 1, 1, 1, 0, 1, 0, 1]\n",
        "\n",
        "jaccard_score(Person_A  , Person_B)\n"
      ],
      "execution_count": 0,
      "outputs": [
        {
          "output_type": "execute_result",
          "data": {
            "text/plain": [
              "0.375"
            ]
          },
          "metadata": {
            "tags": []
          },
          "execution_count": 24
        }
      ]
    },
    {
      "cell_type": "markdown",
      "metadata": {
        "id": "iKMdhhKKQJM5",
        "colab_type": "text"
      },
      "source": [
        "2) 방법 2"
      ]
    },
    {
      "cell_type": "code",
      "metadata": {
        "id": "h4lAFW2WQOSW",
        "colab_type": "code",
        "outputId": "f15f414f-30f6-4486-9e1a-30caef38303d",
        "colab": {
          "base_uri": "https://localhost:8080/",
          "height": 35
        }
      },
      "source": [
        "def jaccard(a,b):\n",
        "  c = a.intersection(b)\n",
        "  return float(len(c)) / (len(a) + len(b) - len(c))\n",
        "  \n",
        "Person_A = ['전산', '개발', 'C언어', '자바', '스칼라', '하둡']\n",
        "Person_B = ['석사', '개발', 'C언어', '파이썬', '하둡']\n",
        "\n",
        "Person_A_set = set(Person_A)\n",
        "Person_B_set = set(Person_B)\n",
        "\n",
        "jaccard(Person_A_set, Person_B_set)"
      ],
      "execution_count": 0,
      "outputs": [
        {
          "output_type": "execute_result",
          "data": {
            "text/plain": [
              "0.375"
            ]
          },
          "metadata": {
            "tags": []
          },
          "execution_count": 25
        }
      ]
    },
    {
      "cell_type": "markdown",
      "metadata": {
        "id": "EufpuLgVSwXp",
        "colab_type": "text"
      },
      "source": [
        "3) 방법 3"
      ]
    },
    {
      "cell_type": "code",
      "metadata": {
        "id": "aniMVdI2d7SB",
        "colab_type": "code",
        "outputId": "fead6e19-8a74-4b0c-f31c-59ce225ff4d6",
        "colab": {
          "base_uri": "https://localhost:8080/",
          "height": 35
        }
      },
      "source": [
        "import numpy as np\n",
        "\n",
        "def jaccard(a,b):\n",
        "  c = a==b\n",
        "  return float(sum(c)/len(a))\n",
        "\n",
        "Person_A=np.array([1,0,1,1,1,0,1,1])\n",
        "Person_B=np.array([0,1,1,1,0,1,0,1])\n",
        "\n",
        "jaccard(Person_A, Person_B)\n",
        "\n"
      ],
      "execution_count": 0,
      "outputs": [
        {
          "output_type": "execute_result",
          "data": {
            "text/plain": [
              "0.375"
            ]
          },
          "metadata": {
            "tags": []
          },
          "execution_count": 27
        }
      ]
    },
    {
      "cell_type": "markdown",
      "metadata": {
        "id": "_8l_Q1pKz6g3",
        "colab_type": "text"
      },
      "source": [
        "## **켄달 타우 상계계수**"
      ]
    },
    {
      "cell_type": "code",
      "metadata": {
        "id": "aTDM2ELXz8bq",
        "colab_type": "code",
        "outputId": "7be458fb-faed-4977-9560-a13e865f0f2e",
        "colab": {
          "base_uri": "https://localhost:8080/",
          "height": 166
        }
      },
      "source": [
        "import pandas as pd\n",
        "\n",
        "data_dict = {'교육받은 횟수': [1, 3, 5, 7],\n",
        "             '생산량': [35, 45, 35, 45]}\n",
        "\n",
        "df = pd.DataFrame(data_dict)\n",
        "\n",
        "df\n"
      ],
      "execution_count": 0,
      "outputs": [
        {
          "output_type": "execute_result",
          "data": {
            "text/html": [
              "<div>\n",
              "<style scoped>\n",
              "    .dataframe tbody tr th:only-of-type {\n",
              "        vertical-align: middle;\n",
              "    }\n",
              "\n",
              "    .dataframe tbody tr th {\n",
              "        vertical-align: top;\n",
              "    }\n",
              "\n",
              "    .dataframe thead th {\n",
              "        text-align: right;\n",
              "    }\n",
              "</style>\n",
              "<table border=\"1\" class=\"dataframe\">\n",
              "  <thead>\n",
              "    <tr style=\"text-align: right;\">\n",
              "      <th></th>\n",
              "      <th>교육받은 횟수</th>\n",
              "      <th>생산량</th>\n",
              "    </tr>\n",
              "  </thead>\n",
              "  <tbody>\n",
              "    <tr>\n",
              "      <th>0</th>\n",
              "      <td>1</td>\n",
              "      <td>35</td>\n",
              "    </tr>\n",
              "    <tr>\n",
              "      <th>1</th>\n",
              "      <td>3</td>\n",
              "      <td>45</td>\n",
              "    </tr>\n",
              "    <tr>\n",
              "      <th>2</th>\n",
              "      <td>5</td>\n",
              "      <td>35</td>\n",
              "    </tr>\n",
              "    <tr>\n",
              "      <th>3</th>\n",
              "      <td>7</td>\n",
              "      <td>45</td>\n",
              "    </tr>\n",
              "  </tbody>\n",
              "</table>\n",
              "</div>"
            ],
            "text/plain": [
              "   교육받은 횟수  생산량\n",
              "0        1   35\n",
              "1        3   45\n",
              "2        5   35\n",
              "3        7   45"
            ]
          },
          "metadata": {
            "tags": []
          },
          "execution_count": 18
        }
      ]
    },
    {
      "cell_type": "code",
      "metadata": {
        "id": "fBcJYYkj0XkX",
        "colab_type": "code",
        "outputId": "704c8e0b-44d3-4a1b-8ab5-d4914b847173",
        "colab": {
          "base_uri": "https://localhost:8080/",
          "height": 70
        }
      },
      "source": [
        "re = df.corr(method = 'kendall')\n",
        "print(re)\n"
      ],
      "execution_count": 0,
      "outputs": [
        {
          "output_type": "stream",
          "text": [
            "          교육받은 횟수       생산량\n",
            "교육받은 횟수  1.000000  0.408248\n",
            "생산량      0.408248  1.000000\n"
          ],
          "name": "stdout"
        }
      ]
    },
    {
      "cell_type": "code",
      "metadata": {
        "id": "qVGrMQWP0Z7q",
        "colab_type": "code",
        "outputId": "1a5d784d-3b92-4b1a-937f-7ba246371aeb",
        "colab": {
          "base_uri": "https://localhost:8080/",
          "height": 70
        }
      },
      "source": [
        "re = df.corr(method = 'pearson')\n",
        "print(re)\n"
      ],
      "execution_count": 0,
      "outputs": [
        {
          "output_type": "stream",
          "text": [
            "          교육받은 횟수       생산량\n",
            "교육받은 횟수  1.000000  0.447214\n",
            "생산량      0.447214  1.000000\n"
          ],
          "name": "stdout"
        }
      ]
    },
    {
      "cell_type": "code",
      "metadata": {
        "id": "u9E1za-50dXT",
        "colab_type": "code",
        "outputId": "7385720e-4158-4383-b978-f75cf0162955",
        "colab": {
          "base_uri": "https://localhost:8080/",
          "height": 70
        }
      },
      "source": [
        "re = df.corr(method = 'spearman')\n",
        "print(re)\n"
      ],
      "execution_count": 0,
      "outputs": [
        {
          "output_type": "stream",
          "text": [
            "          교육받은 횟수       생산량\n",
            "교육받은 횟수  1.000000  0.447214\n",
            "생산량      0.447214  1.000000\n"
          ],
          "name": "stdout"
        }
      ]
    }
  ]
}