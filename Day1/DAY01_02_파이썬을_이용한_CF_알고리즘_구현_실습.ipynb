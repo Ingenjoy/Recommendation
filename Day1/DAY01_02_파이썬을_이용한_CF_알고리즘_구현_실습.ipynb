{
  "nbformat": 4,
  "nbformat_minor": 0,
  "metadata": {
    "colab": {
      "name": "DAY01-02 파이썬을 이용한 CF 알고리즘 구현 실습",
      "provenance": [],
      "include_colab_link": true
    }
  },
  "cells": [
    {
      "cell_type": "markdown",
      "metadata": {
        "id": "view-in-github",
        "colab_type": "text"
      },
      "source": [
        "<a href=\"https://colab.research.google.com/github/Ingenjoy/Recommendation/blob/master/Day1/DAY01_02_%ED%8C%8C%EC%9D%B4%EC%8D%AC%EC%9D%84_%EC%9D%B4%EC%9A%A9%ED%95%9C_CF_%EC%95%8C%EA%B3%A0%EB%A6%AC%EC%A6%98_%EA%B5%AC%ED%98%84_%EC%8B%A4%EC%8A%B5.ipynb\" target=\"_parent\"><img src=\"https://colab.research.google.com/assets/colab-badge.svg\" alt=\"Open In Colab\"/></a>"
      ]
    },
    {
      "cell_type": "code",
      "metadata": {
        "id": "_eKLmFiSsrLu",
        "colab_type": "code",
        "colab": {}
      },
      "source": [
        "critics = {\n",
        "    'Lisa Rose': {\n",
        "        'Lady in the Water': 2.5,\n",
        "        'Snakes on a Plane': 3.5,\n",
        "        'Just My Luck': 3.0,\n",
        "        'Superman Returns': 3.5,\n",
        "        'You, Me and Dupree': 2.5,\n",
        "        'The Night Listener': 3.0\n",
        "    },\n",
        "\n",
        "    'Gene Seymour': {\n",
        "        'Lady in the Water': 3.0,\n",
        "        'Snakes on a Plane': 3.5,\n",
        "        'Just My Luck': 1.5,\n",
        "        'Superman Returns': 5.0,\n",
        "        'The Night Listener': 3.0,\n",
        "        'You, Me and Dupree': 3.5\n",
        "    },\n",
        "\n",
        "    'Michael Phillips': {\n",
        "        'Lady in the Water': 2.5,\n",
        "        'Snakes on a Plane': 3.5,\n",
        "        'Superman Returns': 3.5,\n",
        "        'The Night Listener': 4.0\n",
        "    },\n",
        "\n",
        "    'Claudia Puig': {\n",
        "        'Snakes on a Plane': 3.5,\n",
        "        'Just My Luck': 3.0,\n",
        "        'The Night Listener': 4.5,\n",
        "        'Superman Returns': 4.0,\n",
        "        'You, Me and Dupree': 2.5\n",
        "    },\n",
        "\n",
        "    'Mick LaSalle': {\n",
        "        'Lady in the Water': 3.0,\n",
        "        'Snakes on a Plane': 4.0,\n",
        "        'Just My Luck': 2.0,\n",
        "        'Superman Returns': 3.0,\n",
        "        'The Night Listener': 3.0,\n",
        "        'You, Me and Dupree': 2.0\n",
        "    },\n",
        "\n",
        "    'Jack Mattheuws': {\n",
        "        'Lady in the Water': 3.0,\n",
        "        'Snakes on a Plane': 4.0,\n",
        "        'The Night Listener': 3.0,\n",
        "        'Superman Returns': 5.0,\n",
        "        'You, Me and Dupree': 3.5\n",
        "    },\n",
        "\n",
        "    'Toby': {\n",
        "        'Snakes on a Plane': 4.5,\n",
        "        'You, Me and Dupree': 1.0,\n",
        "        'Superman Returns': 4.0\n",
        "    }\n",
        "}"
      ],
      "execution_count": 0,
      "outputs": []
    },
    {
      "cell_type": "code",
      "metadata": {
        "id": "NrsuPmTwtJbR",
        "colab_type": "code",
        "outputId": "61996b05-765d-46fe-f3b1-9814bc35518e",
        "colab": {
          "base_uri": "https://localhost:8080/",
          "height": 633
        }
      },
      "source": [
        "critics"
      ],
      "execution_count": 0,
      "outputs": [
        {
          "output_type": "execute_result",
          "data": {
            "text/plain": [
              "{'Claudia Puig': {'Just My Luck': 3.0,\n",
              "  'Snakes on a Plane': 3.5,\n",
              "  'Superman Returns': 4.0,\n",
              "  'The Night Listener': 4.5,\n",
              "  'You, Me and Dupree': 2.5},\n",
              " 'Gene Seymour': {'Just My Luck': 1.5,\n",
              "  'Lady in the Water': 3.0,\n",
              "  'Snakes on a Plane': 3.5,\n",
              "  'Superman Returns': 5.0,\n",
              "  'The Night Listener': 3.0,\n",
              "  'You, Me and Dupree': 3.5},\n",
              " 'Jack Mattheuws': {'Lady in the Water': 3.0,\n",
              "  'Snakes on a Plane': 4.0,\n",
              "  'Superman Returns': 5.0,\n",
              "  'The Night Listener': 3.0,\n",
              "  'You, Me and Dupree': 3.5},\n",
              " 'Lisa Rose': {'Just My Luck': 3.0,\n",
              "  'Lady in the Water': 2.5,\n",
              "  'Snakes on a Plane': 3.5,\n",
              "  'Superman Returns': 3.5,\n",
              "  'The Night Listener': 3.0,\n",
              "  'You, Me and Dupree': 2.5},\n",
              " 'Michael Phillips': {'Lady in the Water': 2.5,\n",
              "  'Snakes on a Plane': 3.5,\n",
              "  'Superman Returns': 3.5,\n",
              "  'The Night Listener': 4.0},\n",
              " 'Mick LaSalle': {'Just My Luck': 2.0,\n",
              "  'Lady in the Water': 3.0,\n",
              "  'Snakes on a Plane': 4.0,\n",
              "  'Superman Returns': 3.0,\n",
              "  'The Night Listener': 3.0,\n",
              "  'You, Me and Dupree': 2.0},\n",
              " 'Toby': {'Snakes on a Plane': 4.5,\n",
              "  'Superman Returns': 4.0,\n",
              "  'You, Me and Dupree': 1.0}}"
            ]
          },
          "metadata": {
            "tags": []
          },
          "execution_count": 3
        }
      ]
    },
    {
      "cell_type": "code",
      "metadata": {
        "id": "6kMH_sbatX1w",
        "colab_type": "code",
        "outputId": "9efd6efd-0401-4669-9ef0-2f57ecf5dec4",
        "colab": {
          "base_uri": "https://localhost:8080/",
          "height": 35
        }
      },
      "source": [
        "critics['Lisa Rose']['Lady in the Water']"
      ],
      "execution_count": 0,
      "outputs": [
        {
          "output_type": "execute_result",
          "data": {
            "text/plain": [
              "2.5"
            ]
          },
          "metadata": {
            "tags": []
          },
          "execution_count": 7
        }
      ]
    },
    {
      "cell_type": "code",
      "metadata": {
        "id": "j-XhNRtsutcB",
        "colab_type": "code",
        "outputId": "c121f74c-ef58-4feb-de02-830ddca3a12e",
        "colab": {
          "base_uri": "https://localhost:8080/",
          "height": 35
        }
      },
      "source": [
        "critics['Toby']['Snakes on a Plane']"
      ],
      "execution_count": 0,
      "outputs": [
        {
          "output_type": "execute_result",
          "data": {
            "text/plain": [
              "4.5"
            ]
          },
          "metadata": {
            "tags": []
          },
          "execution_count": 9
        }
      ]
    },
    {
      "cell_type": "code",
      "metadata": {
        "id": "fXZQvdU1vdTA",
        "colab_type": "code",
        "outputId": "b095ab60-7da4-483d-d1db-3352352f153f",
        "colab": {
          "base_uri": "https://localhost:8080/",
          "height": 35
        }
      },
      "source": [
        "critics['Toby']"
      ],
      "execution_count": 0,
      "outputs": [
        {
          "output_type": "execute_result",
          "data": {
            "text/plain": [
              "{'Snakes on a Plane': 4.5, 'Superman Returns': 4.0, 'You, Me and Dupree': 1.0}"
            ]
          },
          "metadata": {
            "tags": []
          },
          "execution_count": 10
        }
      ]
    },
    {
      "cell_type": "code",
      "metadata": {
        "id": "j0DZBDSBvjnf",
        "colab_type": "code",
        "colab": {}
      },
      "source": [
        "from math import sqrt\n",
        "\n",
        "# Returns a distance-based similarity score for person1 and person2\n",
        "def sim_distance(prefs,person1,person2):\n",
        "  # Get the list of shared_items\n",
        "  si={}\n",
        "  for item in prefs[person1]: \n",
        "    if item in prefs[person2]: si[item]=1\n",
        "\n",
        "  # if they have no ratings in common, return 0\n",
        "  if len(si)==0: return 0\n",
        "\n",
        "  # Add up the squares of all the differences\n",
        "  sum_of_squares=sum([pow(prefs[person1][item]-prefs[person2][item],2) \n",
        "                      for item in prefs[person1] if item in prefs[person2]])\n",
        "\n",
        "  return 1/(1+sqrt(sum_of_squares))"
      ],
      "execution_count": 0,
      "outputs": []
    },
    {
      "cell_type": "code",
      "metadata": {
        "id": "jXC7Ehf4vtsW",
        "colab_type": "code",
        "outputId": "f0be92a9-7f00-473e-d3eb-0062c05243f2",
        "colab": {
          "base_uri": "https://localhost:8080/",
          "height": 35
        }
      },
      "source": [
        "sim_distance(critics, 'Lisa Rose', 'Gene Seymour')"
      ],
      "execution_count": 0,
      "outputs": [
        {
          "output_type": "execute_result",
          "data": {
            "text/plain": [
              "0.29429805508554946"
            ]
          },
          "metadata": {
            "tags": []
          },
          "execution_count": 13
        }
      ]
    },
    {
      "cell_type": "code",
      "metadata": {
        "id": "fAV3huw5xs-0",
        "colab_type": "code",
        "outputId": "606d5661-d5bd-47ce-d6c9-12d2be82d3e8",
        "colab": {
          "base_uri": "https://localhost:8080/",
          "height": 142
        }
      },
      "source": [
        "for item in critics:\n",
        "  print \"Toby and\", item, sim_distance(critics, 'Toby', item)"
      ],
      "execution_count": 0,
      "outputs": [
        {
          "output_type": "stream",
          "text": [
            "Toby and Gene Seymour 0.258245699761\n",
            "Toby and Mick LaSalle 0.4\n",
            "Toby and Claudia Puig 0.356789172325\n",
            "Toby and Lisa Rose 0.348331477355\n",
            "Toby and Toby 1.0\n",
            "Toby and Michael Phillips 0.472135955\n",
            "Toby and Jack Mattheuws 0.267478890389\n"
          ],
          "name": "stdout"
        }
      ]
    },
    {
      "cell_type": "code",
      "metadata": {
        "id": "ZQGz0Bb8xdgo",
        "colab_type": "code",
        "outputId": "eedac8ac-4b74-41ba-b3fb-b2155564983d",
        "colab": {
          "base_uri": "https://localhost:8080/",
          "height": 35
        }
      },
      "source": [
        "# Returns the Pearson correlation coefficient for p1 and p2\n",
        "def sim_pearson(prefs,p1,p2):\n",
        "  # 같이 평가한 항목들의 목록을 구함\n",
        "  si={}\n",
        "  \n",
        "  for item in prefs[p1]: \n",
        "    if item in prefs[p2]: si[item]=1\n",
        "\n",
        "  # 공통 항목이 없으면 0 리턴\n",
        "  if len(si)==0: return 0\n",
        "\n",
        "  # 공통 항목 개수\n",
        "  n=len(si)\n",
        "  \n",
        "  # 공통으로 평가한 모든 영화의 선호도를 합산\n",
        "  sum1=sum([prefs[p1][it] for it in si])\n",
        "  sum2=sum([prefs[p2][it] for it in si])\n",
        "  \n",
        "   # 제곱의 합을 계산\n",
        "  sum1Sq=sum([pow(prefs[p1][it],2) for it in si])\n",
        "  sum2Sq=sum([pow(prefs[p2][it],2) for it in si])\t\n",
        "  \n",
        "  # 곱의 합을 계산\n",
        "  pSum=sum([prefs[p1][it]*prefs[p2][it] for it in si])\n",
        "  \n",
        "  # 피어슨 점수 계산\n",
        "  num=pSum-(sum1*sum2/n)\n",
        "  den=sqrt((sum1Sq-pow(sum1,2)/n)*(sum2Sq-pow(sum2,2)/n))\n",
        "  if den==0: return 0\n",
        "\n",
        "  r=num/den\n",
        "\n",
        "  return r"
      ],
      "execution_count": 0,
      "outputs": [
        {
          "output_type": "stream",
          "text": [
            "\n"
          ],
          "name": "stdout"
        }
      ]
    },
    {
      "cell_type": "code",
      "metadata": {
        "id": "KSFZsBoyxlDo",
        "colab_type": "code",
        "outputId": "0e279913-5314-431d-b504-ce2d11a9a5ad",
        "colab": {
          "base_uri": "https://localhost:8080/",
          "height": 142
        }
      },
      "source": [
        "for item in critics:\n",
        "  print \"Lisa Rose and\", item, sim_pearson(critics, \"Lisa Rose\", item)"
      ],
      "execution_count": 0,
      "outputs": [
        {
          "output_type": "stream",
          "text": [
            " Lisa Rose and Gene Seymour 0.396059017191\n",
            "Lisa Rose and Mick LaSalle 0.594088525786\n",
            "Lisa Rose and Claudia Puig 0.566946709514\n",
            "Lisa Rose and Lisa Rose 1.0\n",
            "Lisa Rose and Toby 0.991240707162\n",
            "Lisa Rose and Michael Phillips 0.622543017479\n",
            "Lisa Rose and Jack Mattheuws 0.747017880834\n"
          ],
          "name": "stdout"
        }
      ]
    },
    {
      "cell_type": "code",
      "metadata": {
        "id": "uRB3uwpkyGi4",
        "colab_type": "code",
        "colab": {}
      },
      "source": [
        "# 선호도 dict에 최적의 상대편을 구함 \n",
        "# 결과 개수와 유사도 함수는 옵션\n",
        "\n",
        "def topMatches(prefs,person,n=5,similarity=sim_pearson):\n",
        "  scores=[(similarity(prefs,person,other),other) \n",
        "                  for other in prefs if other!=person]\n",
        "  scores.sort()\n",
        "  scores.reverse()\n",
        "  return scores[0:n]"
      ],
      "execution_count": 0,
      "outputs": []
    },
    {
      "cell_type": "code",
      "metadata": {
        "id": "0nk7Cdyr0W2v",
        "colab_type": "code",
        "outputId": "bbe106d6-923b-4935-9951-452407508395",
        "colab": {
          "base_uri": "https://localhost:8080/",
          "height": 106
        }
      },
      "source": [
        "for score, other in topMatches(critics, \"Toby\"):\n",
        "  print \"Toby and\", other, score"
      ],
      "execution_count": 0,
      "outputs": [
        {
          "output_type": "stream",
          "text": [
            "Toby and Lisa Rose 0.991240707162\n",
            "Toby and Mick LaSalle 0.924473451642\n",
            "Toby and Claudia Puig 0.893405147442\n",
            "Toby and Jack Mattheuws 0.66284898036\n",
            "Toby and Gene Seymour 0.381246425832\n"
          ],
          "name": "stdout"
        }
      ]
    },
    {
      "cell_type": "code",
      "metadata": {
        "id": "yldS3XmN6aGO",
        "colab_type": "code",
        "outputId": "3f4803ad-7000-41da-bfbb-9ab58853e217",
        "colab": {
          "base_uri": "https://localhost:8080/",
          "height": 123
        }
      },
      "source": [
        "for item in [item for item in critics if item!=\"Toby\"]:\n",
        "   print \"Toby and\", item, round(sim_pearson(critics, \"Toby\", item),2)\n"
      ],
      "execution_count": 0,
      "outputs": [
        {
          "output_type": "stream",
          "text": [
            "Toby and Gene Seymour 0.38\n",
            "Toby and Mick LaSalle 0.92\n",
            "Toby and Claudia Puig 0.89\n",
            "Toby and Lisa Rose 0.99\n",
            "Toby and Michael Phillips 0.0\n",
            "Toby and Jack Mattheuws 0.66\n"
          ],
          "name": "stdout"
        }
      ]
    },
    {
      "cell_type": "code",
      "metadata": {
        "id": "nokSb9Io0cAv",
        "colab_type": "code",
        "colab": {}
      },
      "source": [
        "# 다른 사람과의 순위의 가중 평균값을 이용해서 특정 사람을 추천\n",
        "def getRecommendations(prefs,person,similarity=sim_pearson):\n",
        "  totals={}\n",
        "  simSums={}\n",
        "  for other in prefs:\n",
        "    # don't compare me to myself\n",
        "    if other==person: continue\n",
        "    sim=similarity(prefs,person,other) # person과 other 사이의 상관계수 점수를 구함\n",
        "\n",
        "    # ignore scores of zero or lower\n",
        "    if sim<=0: continue\n",
        "    for item in prefs[other]:\n",
        "\t    \n",
        "      # only score movies I haven't seen yet\n",
        "      if item not in prefs[person] or prefs[person][item]==0:\n",
        "        # Similarity * Score\n",
        "        totals.setdefault(item,0)\n",
        "        totals[item]+=prefs[other][item]*sim\n",
        "        # Sum of similarities\n",
        "        simSums.setdefault(item,0)\n",
        "        simSums[item]+=sim\n",
        "\n",
        "  # Create the normalized list\n",
        "  rankings=[(total/simSums[item],item) for item,total in totals.items()]\n",
        "\n",
        "  # Return the sorted list\n",
        "  rankings.sort()\n",
        "  rankings.reverse()\n",
        "  return rankings"
      ],
      "execution_count": 0,
      "outputs": []
    },
    {
      "cell_type": "code",
      "metadata": {
        "id": "Pgh-A93Q18gY",
        "colab_type": "code",
        "outputId": "e37d04e6-fa6c-4043-a68e-9958b560f154",
        "colab": {
          "base_uri": "https://localhost:8080/",
          "height": 70
        }
      },
      "source": [
        "for score, item in getRecommendations(critics, \"Toby\"): \n",
        "  print item, round(score,2)\n"
      ],
      "execution_count": 0,
      "outputs": [
        {
          "output_type": "stream",
          "text": [
            "The Night Listener 3.35\n",
            "Lady in the Water 2.83\n",
            "Just My Luck 2.53\n"
          ],
          "name": "stdout"
        }
      ]
    },
    {
      "cell_type": "code",
      "metadata": {
        "id": "A1vr2LIB2BYx",
        "colab_type": "code",
        "outputId": "64e2802a-5a0e-40c8-8f9d-e6b3970c4000",
        "colab": {
          "base_uri": "https://localhost:8080/",
          "height": 70
        }
      },
      "source": [
        "for score, item in getRecommendations(critics, \"Toby\", similarity=sim_distance):\n",
        "  print item, round(score,2)\n"
      ],
      "execution_count": 0,
      "outputs": [
        {
          "output_type": "stream",
          "text": [
            "The Night Listener 3.48\n",
            "Lady in the Water 2.77\n",
            "Just My Luck 2.42\n"
          ],
          "name": "stdout"
        }
      ]
    },
    {
      "cell_type": "code",
      "metadata": {
        "id": "p-6EoRKd2MSw",
        "colab_type": "code",
        "colab": {}
      },
      "source": [
        "def transformPrefs(prefs):\n",
        "  result={}\n",
        "  for person in prefs:\n",
        "    for item in prefs[person]:\n",
        "      result.setdefault(item,{})\n",
        "      \n",
        "      # Flip item and person\n",
        "      result[item][person]=prefs[person][item]\n",
        "  return result"
      ],
      "execution_count": 0,
      "outputs": []
    },
    {
      "cell_type": "code",
      "metadata": {
        "id": "oKgEvZD69R_-",
        "colab_type": "code",
        "outputId": "d71ce163-d25d-4f4b-c84c-7a770f3bfbe7",
        "colab": {
          "base_uri": "https://localhost:8080/",
          "height": 633
        }
      },
      "source": [
        "transformPrefs(critics)"
      ],
      "execution_count": 0,
      "outputs": [
        {
          "output_type": "execute_result",
          "data": {
            "text/plain": [
              "{'Just My Luck': {'Claudia Puig': 3.0,\n",
              "  'Gene Seymour': 1.5,\n",
              "  'Lisa Rose': 3.0,\n",
              "  'Mick LaSalle': 2.0},\n",
              " 'Lady in the Water': {'Gene Seymour': 3.0,\n",
              "  'Jack Mattheuws': 3.0,\n",
              "  'Lisa Rose': 2.5,\n",
              "  'Michael Phillips': 2.5,\n",
              "  'Mick LaSalle': 3.0},\n",
              " 'Snakes on a Plane': {'Claudia Puig': 3.5,\n",
              "  'Gene Seymour': 3.5,\n",
              "  'Jack Mattheuws': 4.0,\n",
              "  'Lisa Rose': 3.5,\n",
              "  'Michael Phillips': 3.5,\n",
              "  'Mick LaSalle': 4.0,\n",
              "  'Toby': 4.5},\n",
              " 'Superman Returns': {'Claudia Puig': 4.0,\n",
              "  'Gene Seymour': 5.0,\n",
              "  'Jack Mattheuws': 5.0,\n",
              "  'Lisa Rose': 3.5,\n",
              "  'Michael Phillips': 3.5,\n",
              "  'Mick LaSalle': 3.0,\n",
              "  'Toby': 4.0},\n",
              " 'The Night Listener': {'Claudia Puig': 4.5,\n",
              "  'Gene Seymour': 3.0,\n",
              "  'Jack Mattheuws': 3.0,\n",
              "  'Lisa Rose': 3.0,\n",
              "  'Michael Phillips': 4.0,\n",
              "  'Mick LaSalle': 3.0},\n",
              " 'You, Me and Dupree': {'Claudia Puig': 2.5,\n",
              "  'Gene Seymour': 3.5,\n",
              "  'Jack Mattheuws': 3.5,\n",
              "  'Lisa Rose': 2.5,\n",
              "  'Mick LaSalle': 2.0,\n",
              "  'Toby': 1.0}}"
            ]
          },
          "metadata": {
            "tags": []
          },
          "execution_count": 15
        }
      ]
    },
    {
      "cell_type": "code",
      "metadata": {
        "id": "OYqcvq-W2nNb",
        "colab_type": "code",
        "outputId": "f1348993-64d3-46e3-84b2-d3b06f4de23a",
        "colab": {
          "base_uri": "https://localhost:8080/",
          "height": 105
        }
      },
      "source": [
        "transformed = transformPrefs(critics)\n",
        "for score, item in topMatches(transformed, \"Superman Returns\"):\n",
        "  print item, round(score,2)"
      ],
      "execution_count": 0,
      "outputs": [
        {
          "output_type": "stream",
          "text": [
            "You, Me and Dupree 0.66\n",
            "Lady in the Water 0.49\n",
            "Snakes on a Plane 0.0\n",
            "The Night Listener -0.18\n",
            "Just My Luck -0.42\n"
          ],
          "name": "stdout"
        }
      ]
    },
    {
      "cell_type": "code",
      "metadata": {
        "id": "itzBMhhE2cpx",
        "colab_type": "code",
        "colab": {}
      },
      "source": [
        "def calculateSimilarItems(prefs,n=10):\n",
        "  # Create a dictionary of items showing which other items they\n",
        "  # are most similar to.\n",
        "  result={}\n",
        "  # Invert the preference matrix to be item-centric\n",
        "  itemPrefs=transformPrefs(prefs)\n",
        "  c=0\n",
        "  for item in itemPrefs:\n",
        "    # Status updates for large datasets\n",
        "    c+=1\n",
        "    if c%100==0: print \"%d / %d\" % (c,len(itemPrefs))\n",
        "    # Find the most similar items to this one\n",
        "    scores=topMatches(itemPrefs,item,n=n,similarity=sim_distance)\n",
        "    result[item]=scores\n",
        "  return result"
      ],
      "execution_count": 0,
      "outputs": []
    },
    {
      "cell_type": "code",
      "metadata": {
        "id": "4TFUN8r83Q82",
        "colab_type": "code",
        "outputId": "6d7c35df-b776-45af-d54c-829340c73f06",
        "colab": {
          "base_uri": "https://localhost:8080/",
          "height": 55
        }
      },
      "source": [
        "itemsim = calculateSimilarItems(critics)\n",
        "print(itemsim)"
      ],
      "execution_count": 0,
      "outputs": [
        {
          "output_type": "stream",
          "text": [
            "{'Lady in the Water': [(0.4494897427831781, 'You, Me and Dupree'), (0.38742588672279304, 'The Night Listener'), (0.3483314773547883, 'Just My Luck'), (0.3266316347104093, 'Snakes on a Plane'), (0.2402530733520421, 'Superman Returns')], 'Snakes on a Plane': [(0.3405424265831667, 'The Night Listener'), (0.3266316347104093, 'Lady in the Water'), (0.31451985913875646, 'Superman Returns'), (0.2553967929896867, 'Just My Luck'), (0.1886378647726465, 'You, Me and Dupree')], 'Just My Luck': [(0.3483314773547883, 'Lady in the Water'), (0.32037724101704074, 'You, Me and Dupree'), (0.2989350844248255, 'The Night Listener'), (0.2553967929896867, 'Snakes on a Plane'), (0.20799159651347807, 'Superman Returns')], 'Superman Returns': [(0.31451985913875646, 'Snakes on a Plane'), (0.252650308587072, 'The Night Listener'), (0.2402530733520421, 'Lady in the Water'), (0.20799159651347807, 'Just My Luck'), (0.1918253663634734, 'You, Me and Dupree')], 'You, Me and Dupree': [(0.4494897427831781, 'Lady in the Water'), (0.32037724101704074, 'Just My Luck'), (0.29429805508554946, 'The Night Listener'), (0.1918253663634734, 'Superman Returns'), (0.1886378647726465, 'Snakes on a Plane')], 'The Night Listener': [(0.38742588672279304, 'Lady in the Water'), (0.3405424265831667, 'Snakes on a Plane'), (0.2989350844248255, 'Just My Luck'), (0.29429805508554946, 'You, Me and Dupree'), (0.252650308587072, 'Superman Returns')]}\n"
          ],
          "name": "stdout"
        }
      ]
    },
    {
      "cell_type": "code",
      "metadata": {
        "id": "rY6msJ4x2ftB",
        "colab_type": "code",
        "colab": {}
      },
      "source": [
        "def getRecommendedItems(prefs,itemMatch,user):\n",
        "  userRatings=prefs[user]\n",
        "  scores={}\n",
        "  totalSim={}\n",
        "  # Loop over items rated by this user\n",
        "  for (item,rating) in userRatings.items():\n",
        "\n",
        "    # Loop over items similar to this one\n",
        "    for (similarity,item2) in itemMatch[item]:\n",
        "\n",
        "      # Ignore if this user has already rated this item\n",
        "      if item2 in userRatings: continue\n",
        "      # Weighted sum of rating times similarity\n",
        "      scores.setdefault(item2,0)\n",
        "      scores[item2]+=similarity*rating\n",
        "      # Sum of all the similarities\n",
        "      totalSim.setdefault(item2,0)\n",
        "      totalSim[item2]+=similarity\n",
        "\n",
        "  # Divide each total score by total weighting to get an average\n",
        "  rankings=[(score/totalSim[item],item) for item,score in scores.items()]\n",
        "\n",
        "  # Return the rankings from highest to lowest\n",
        "  rankings.sort()\n",
        "  rankings.reverse()\n",
        "  return rankings"
      ],
      "execution_count": 0,
      "outputs": []
    },
    {
      "cell_type": "code",
      "metadata": {
        "id": "Pb_ZT_JX3Bk2",
        "colab_type": "code",
        "outputId": "054ed51f-cc63-4cea-ceae-9aa5a97587b9",
        "colab": {
          "base_uri": "https://localhost:8080/",
          "height": 70
        }
      },
      "source": [
        "getRecommendedItems(critics,itemsim,'Toby')"
      ],
      "execution_count": 0,
      "outputs": [
        {
          "output_type": "execute_result",
          "data": {
            "text/plain": [
              "[(3.1970362286692846, 'The Night Listener'),\n",
              " (2.936629402844435, 'Just My Luck'),\n",
              " (2.8339401782401406, 'Lady in the Water')]"
            ]
          },
          "metadata": {
            "tags": []
          },
          "execution_count": 29
        }
      ]
    },
    {
      "cell_type": "code",
      "metadata": {
        "id": "GEVljNPd3rlw",
        "colab_type": "code",
        "outputId": "5929ce48-e0eb-475a-d037-fd384df1effa",
        "colab": {
          "base_uri": "https://localhost:8080/",
          "height": 105
        }
      },
      "source": [
        "for item in critics['Claudia Puig']:\n",
        "  print(item)\n",
        "\n",
        "  "
      ],
      "execution_count": 0,
      "outputs": [
        {
          "output_type": "stream",
          "text": [
            "Snakes on a Plane\n",
            "Just My Luck\n",
            "You, Me and Dupree\n",
            "Superman Returns\n",
            "The Night Listener\n"
          ],
          "name": "stdout"
        }
      ]
    },
    {
      "cell_type": "code",
      "metadata": {
        "id": "OasMyFGm4d0N",
        "colab_type": "code",
        "outputId": "21732e44-9249-4e44-d4af-79f8996b318c",
        "colab": {
          "base_uri": "https://localhost:8080/",
          "height": 633
        }
      },
      "source": [
        "critics"
      ],
      "execution_count": 0,
      "outputs": [
        {
          "output_type": "execute_result",
          "data": {
            "text/plain": [
              "{'Claudia Puig': {'Just My Luck': 3.0,\n",
              "  'Snakes on a Plane': 3.5,\n",
              "  'Superman Returns': 4.0,\n",
              "  'The Night Listener': 4.5,\n",
              "  'You, Me and Dupree': 2.5},\n",
              " 'Gene Seymour': {'Just My Luck': 1.5,\n",
              "  'Lady in the Water': 3.0,\n",
              "  'Snakes on a Plane': 3.5,\n",
              "  'Superman Returns': 5.0,\n",
              "  'The Night Listener': 3.0,\n",
              "  'You, Me and Dupree': 3.5},\n",
              " 'Jack Mattheuws': {'Lady in the Water': 3.0,\n",
              "  'Snakes on a Plane': 4.0,\n",
              "  'Superman Returns': 5.0,\n",
              "  'The Night Listener': 3.0,\n",
              "  'You, Me and Dupree': 3.5},\n",
              " 'Lisa Rose': {'Just My Luck': 3.0,\n",
              "  'Lady in the Water': 2.5,\n",
              "  'Snakes on a Plane': 3.5,\n",
              "  'Superman Returns': 3.5,\n",
              "  'The Night Listener': 3.0,\n",
              "  'You, Me and Dupree': 2.5},\n",
              " 'Michael Phillips': {'Lady in the Water': 2.5,\n",
              "  'Snakes on a Plane': 3.5,\n",
              "  'Superman Returns': 3.5,\n",
              "  'The Night Listener': 4.0},\n",
              " 'Mick LaSalle': {'Just My Luck': 2.0,\n",
              "  'Lady in the Water': 3.0,\n",
              "  'Snakes on a Plane': 4.0,\n",
              "  'Superman Returns': 3.0,\n",
              "  'The Night Listener': 3.0,\n",
              "  'You, Me and Dupree': 2.0},\n",
              " 'Toby': {'Snakes on a Plane': 4.5,\n",
              "  'Superman Returns': 4.0,\n",
              "  'You, Me and Dupree': 1.0}}"
            ]
          },
          "metadata": {
            "tags": []
          },
          "execution_count": 5
        }
      ]
    },
    {
      "cell_type": "markdown",
      "metadata": {
        "id": "n4y7U69epEB6",
        "colab_type": "text"
      },
      "source": [
        ""
      ]
    }
  ]
}